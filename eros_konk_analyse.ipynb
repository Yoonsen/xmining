{
 "cells": [
  {
   "cell_type": "markdown",
   "metadata": {},
   "source": [
    "#### Paracode"
   ]
  },
  {
   "cell_type": "markdown",
   "metadata": {},
   "source": [
    "Laster ned moduler og filer, `module_update`, `nbtext` og `graph_networkx_louvain`"
   ]
  },
  {
   "cell_type": "code",
   "execution_count": 1,
   "metadata": {},
   "outputs": [],
   "source": [
    "! curl -s \"https://raw.githubusercontent.com/Yoonsen/Modules/master/module_update.py\" > \"module_update.py\""
   ]
  },
  {
   "cell_type": "code",
   "execution_count": 10,
   "metadata": {},
   "outputs": [
    {
     "data": {
      "text/markdown": [
       "Updated file `C:\\Users\\larsj\\Documents\\GitHub\\xmining\\nbtext.py`"
      ],
      "text/plain": [
       "<IPython.core.display.Markdown object>"
      ]
     },
     "metadata": {},
     "output_type": "display_data"
    },
    {
     "data": {
      "text/markdown": [
       "Updated file `C:\\Users\\larsj\\Documents\\GitHub\\xmining\\graph_networkx_louvain.py`"
      ],
      "text/plain": [
       "<IPython.core.display.Markdown object>"
      ]
     },
     "metadata": {},
     "output_type": "display_data"
    }
   ],
   "source": [
    "from module_update import update, css, code_toggle, printmd\n",
    "update('nbtext', overwrite=True)\n",
    "update('graph_networkx_louvain', overwrite=True)"
   ]
  },
  {
   "cell_type": "markdown",
   "metadata": {},
   "source": [
    "Aktiver eller fjern `css`"
   ]
  },
  {
   "cell_type": "code",
   "execution_count": 228,
   "metadata": {},
   "outputs": [
    {
     "data": {
      "text/html": [
       "<style>@import url(\n",
       "http://fonts.googleapis.com/css?family=Lato|Philosopher|Montserrat|Source+Code+Pro|Istok+Web|Philosopher|Assistant:200,400,700);\n",
       "\n",
       "/*\n",
       "#notebook-container {\n",
       "\t-webkit-box-shadow: none;\n",
       "\tbox-shadow: none;\n",
       "}\n",
       "*/\n",
       "\n",
       "h1, h2, h3, h4, h5, h6 {\n",
       "\tfont-family: 'Montserrat', sans-serif;\n",
       "\tline-height: 2em;\n",
       "    color: #004f99;\n",
       "    font-weight: 600;\n",
       "}\n",
       "\n",
       "h1 { font-size: 4.5em; }\n",
       "h2 { font-size: 4em; }\n",
       "h3 { font-size: 3.5em; }\n",
       "h4 { font-size: 3em; }\n",
       "h5 { font-size: 2.5em; color:DarkSlateGray; }\n",
       "h6 { font-size: 2em; }\n",
       "\n",
       "p {\n",
       "\tfont-family: 'Assistant', sans-serif; \n",
       "\tfont-size: 1.2em;\n",
       "\tline-height: 1.4em;\n",
       "\tcolor: black;\n",
       "}\n",
       "p code {\n",
       "\tfont-size:0.9em;\n",
       "}\n",
       "div.input_area {\n",
       "\tborder:none !important;\n",
       "\tborder-left:1px solid #ff851b !important\n",
       "}\n",
       "\n",
       "span.cm-keyword {\n",
       "\tcolor:#339966 !important;\n",
       "}\n",
       "span.nn {  /*span.cm-variable, span.cm-property*/\n",
       "\tcolor: #3399ff !important;\n",
       "}\n",
       "div.CodeMirror {\n",
       "\tfont-family: 'Inconsolata', monospace;\n",
       "\tfont-size: 1.1em;\n",
       "\t\n",
       "}\n",
       "</style>"
      ],
      "text/plain": [
       "<IPython.core.display.HTML object>"
      ]
     },
     "execution_count": 228,
     "metadata": {},
     "output_type": "execute_result"
    }
   ],
   "source": [
    "css()"
   ]
  },
  {
   "cell_type": "markdown",
   "metadata": {},
   "source": [
    "Importer moduler"
   ]
  },
  {
   "cell_type": "code",
   "execution_count": 75,
   "metadata": {},
   "outputs": [],
   "source": [
    "import nbtext as nb\n",
    "import graph_networkx_louvain as gnl\n",
    "import pandas as pd\n",
    "%matplotlib inline"
   ]
  },
  {
   "cell_type": "markdown",
   "metadata": {},
   "source": [
    "Slår av advarsler fra IPython"
   ]
  },
  {
   "cell_type": "code",
   "execution_count": 82,
   "metadata": {},
   "outputs": [],
   "source": [
    "import warnings\n",
    "warnings.filterwarnings('ignore')"
   ]
  },
  {
   "cell_type": "markdown",
   "metadata": {},
   "source": [
    "# Notebook for erosmining\n"
   ]
  },
  {
   "cell_type": "code",
   "execution_count": 4,
   "metadata": {},
   "outputs": [
    {
     "name": "stdout",
     "output_type": "stream",
     "text": [
      "Antall URNer:  456 ['2015090129001', '2011112308125', '2012021608164', '2016111748512', '2010111706020']\n"
     ]
    }
   ],
   "source": [
    "urns = nb.get_urns_from_docx('../Materiale erotisk litteratur 1945-1970 liste 27.09.18.docx')\n",
    "print('Antall URNer: ', len(urns), urns[:5])"
   ]
  },
  {
   "cell_type": "code",
   "execution_count": 6,
   "metadata": {},
   "outputs": [],
   "source": [
    "# rekonstruerer metadata for URN-ene\n",
    "meta = [nb.metadata(u) for u in urns]"
   ]
  },
  {
   "cell_type": "code",
   "execution_count": 23,
   "metadata": {},
   "outputs": [],
   "source": [
    "konk = lambda word, before=8, after=4, size=2: nb.get_urnkonk(word, {'urns':nb.refine_urn(urns,{'words':[word]} )[:30], 'before':before, 'after':after, 'size':size})"
   ]
  },
  {
   "cell_type": "markdown",
   "metadata": {},
   "source": [
    "## Konkordanser\n",
    "\n",
    "Bare kopier cellen og kjør flere ganger. Det tar noen sekunder, i og med at korpuset er såpass stort. Effektivisering er under planlegging."
   ]
  },
  {
   "cell_type": "code",
   "execution_count": 227,
   "metadata": {
    "scrolled": true
   },
   "outputs": [
    {
     "data": {
      "text/html": [
       "<table><tr>\n",
       "                <td>\n",
       "                    <a href='http://www.nb.no/items/URN:NBN:no-nb_digibok_2007043004019?searchText=kjønnet' target='_blank' style='text-decoration:none'>amerikansk drøm, Mailer, Norman, 1965</a>\n",
       "                </td>\n",
       "                <td>var levende på dypt vann , dypere enn</td>\n",
       "                <td>kjønnet</td>\n",
       "                <td style='text-align:left'>, en tunnel av</td>\n",
       "            </tr>\n",
       "<tr>\n",
       "                <td>\n",
       "                    <a href='http://www.nb.no/items/URN:NBN:no-nb_digibok_2007043004019?searchText=kjønnet' target='_blank' style='text-decoration:none'>amerikansk drøm, Mailer, Norman, 1965</a>\n",
       "                </td>\n",
       "                <td>man oppdaget at det endelig er der ,</td>\n",
       "                <td>kjønnet</td>\n",
       "                <td style='text-align:left'>- men for en</td>\n",
       "            </tr>\n",
       "<tr>\n",
       "                <td>\n",
       "                    <a href='http://www.nb.no/items/URN:NBN:no-nb_digibok_2015062308071?searchText=kjønnet' target='_blank' style='text-decoration:none'>Lolita, Nabokov, Vladimir, 1959</a>\n",
       "                </td>\n",
       "                <td>har sagt , det er akkurat omvendt :</td>\n",
       "                <td>kjønnet</td>\n",
       "                <td style='text-align:left'>er bare kunstens tjenerinne</td>\n",
       "            </tr>\n",
       "<tr>\n",
       "                <td>\n",
       "                    <a href='http://www.nb.no/items/URN:NBN:no-nb_digibok_2013040824045?searchText=kjønnet' target='_blank' style='text-decoration:none'>Uten en tråd, Bjørneboe, Jens, 1966</a>\n",
       "                </td>\n",
       "                <td>seksual-moral som finnes ; du skal ikke bruke</td>\n",
       "                <td>kjønnet</td>\n",
       "                <td style='text-align:left'>ditt til å få</td>\n",
       "            </tr>\n",
       "<tr>\n",
       "                <td>\n",
       "                    <a href='http://www.nb.no/items/URN:NBN:no-nb_digibok_2013040824045?searchText=kjønnet' target='_blank' style='text-decoration:none'>Uten en tråd, Bjørneboe, Jens, 1966</a>\n",
       "                </td>\n",
       "                <td>fingrene om den bløte , utvendige delen av</td>\n",
       "                <td>kjønnet</td>\n",
       "                <td style='text-align:left'>hennes . Hun trakk</td>\n",
       "            </tr>\n",
       "<tr>\n",
       "                <td>\n",
       "                    <a href='http://www.nb.no/items/URN:NBN:no-nb_digibok_2013040824045?searchText=kjønnet' target='_blank' style='text-decoration:none'>Uten en tråd, Bjørneboe, Jens, 1966</a>\n",
       "                </td>\n",
       "                <td>stund holdt 2 & S bare hånden rundt</td>\n",
       "                <td>kjønnet</td>\n",
       "                <td style='text-align:left'>hans , omkring fortykkelsen</td>\n",
       "            </tr>\n",
       "<tr>\n",
       "                <td>\n",
       "                    <a href='http://www.nb.no/items/URN:NBN:no-nb_digibok_2013040824045?searchText=kjønnet' target='_blank' style='text-decoration:none'>Uten en tråd, Bjørneboe, Jens, 1966</a>\n",
       "                </td>\n",
       "                <td>Jeg tok omkring</td>\n",
       "                <td>kjønnet</td>\n",
       "                <td style='text-align:left'>hans og hørte at</td>\n",
       "            </tr>\n",
       "<tr>\n",
       "                <td>\n",
       "                    <a href='http://www.nb.no/items/URN:NBN:no-nb_digibok_2010111706020?searchText=kjønnet' target='_blank' style='text-decoration:none'>Kain, Anderberg, Bengt, 1949</a>\n",
       "                </td>\n",
       "                <td>eggende akkurat . Der gikk hun , med</td>\n",
       "                <td>kjønnet</td>\n",
       "                <td style='text-align:left'>lukket som et muslingskall</td>\n",
       "            </tr>\n",
       "<tr>\n",
       "                <td>\n",
       "                    <a href='http://www.nb.no/items/URN:NBN:no-nb_digibok_2007072604023?searchText=kjønnet' target='_blank' style='text-decoration:none'>Kruttårnet, Bjørneboe, Jens, 1969</a>\n",
       "                </td>\n",
       "                <td>smilte mens han åpnet buksene og trakk frem</td>\n",
       "                <td>kjønnet</td>\n",
       "                <td style='text-align:left'>som var hårdt og</td>\n",
       "            </tr>\n",
       "<tr>\n",
       "                <td>\n",
       "                    <a href='http://www.nb.no/items/URN:NBN:no-nb_digibok_2007072604023?searchText=kjønnet' target='_blank' style='text-decoration:none'>Kruttårnet, Bjørneboe, Jens, 1969</a>\n",
       "                </td>\n",
       "                <td>så ned mot underlivet hans og det strittende</td>\n",
       "                <td>kjønnet</td>\n",
       "                <td style='text-align:left'>. I praktisk talt</td>\n",
       "            </tr>\n",
       "<tr>\n",
       "                <td>\n",
       "                    <a href='http://www.nb.no/items/URN:NBN:no-nb_digibok_2012020908081?searchText=kjønnet' target='_blank' style='text-decoration:none'>Herfra til evigheten, Jones, James, 1953</a>\n",
       "                </td>\n",
       "                <td>Du er et tomt hylster og meningen med</td>\n",
       "                <td>kjønnet</td>\n",
       "                <td style='text-align:left'>er borte , du</td>\n",
       "            </tr>\n",
       "<tr>\n",
       "                <td>\n",
       "                    <a href='http://www.nb.no/items/URN:NBN:no-nb_digibok_2012020908081?searchText=kjønnet' target='_blank' style='text-decoration:none'>Herfra til evigheten, Jones, James, 1953</a>\n",
       "                </td>\n",
       "                <td>om du kan finne den , kan gi</td>\n",
       "                <td>kjønnet</td>\n",
       "                <td style='text-align:left'>mening — og gi</td>\n",
       "            </tr>\n",
       "<tr>\n",
       "                <td>\n",
       "                    <a href='http://www.nb.no/items/URN:NBN:no-nb_digibok_2013032208009?searchText=kjønnet' target='_blank' style='text-decoration:none'>491, Görling, Lars, 1966</a>\n",
       "                </td>\n",
       "                <td>ikke fordi hun sto så dypt bøyet at</td>\n",
       "                <td>kjønnet</td>\n",
       "                <td style='text-align:left'>lå fullstendig fritt .</td>\n",
       "            </tr>\n",
       "<tr>\n",
       "                <td>\n",
       "                    <a href='http://www.nb.no/items/URN:NBN:no-nb_digibok_2013112808193?searchText=kjønnet' target='_blank' style='text-decoration:none'>Tørst, Tengroth, Birgit, 1949</a>\n",
       "                </td>\n",
       "                <td>penger ? Men så seig var solidariteten med</td>\n",
       "                <td>kjønnet</td>\n",
       "                <td style='text-align:left'>at hun heller led</td>\n",
       "            </tr>\n",
       "<tr>\n",
       "                <td>\n",
       "                    <a href='http://www.nb.no/items/URN:NBN:no-nb_digibok_2013112808193?searchText=kjønnet' target='_blank' style='text-decoration:none'>Tørst, Tengroth, Birgit, 1949</a>\n",
       "                </td>\n",
       "                <td>samfunnet igjen for at jeg skal tvangstilpasses til</td>\n",
       "                <td>kjønnet</td>\n",
       "                <td style='text-align:left'>og begynne samme via</td>\n",
       "            </tr>\n",
       "<tr>\n",
       "                <td>\n",
       "                    <a href='http://www.nb.no/items/URN:NBN:no-nb_digibok_2013112808193?searchText=kjønnet' target='_blank' style='text-decoration:none'>Tørst, Tengroth, Birgit, 1949</a>\n",
       "                </td>\n",
       "                <td>, spilte lystent med tungen , ormet med</td>\n",
       "                <td>kjønnet</td>\n",
       "                <td style='text-align:left'>, fikk samme brustne</td>\n",
       "            </tr>\n",
       "<tr>\n",
       "                <td>\n",
       "                    <a href='http://www.nb.no/items/URN:NBN:no-nb_digibok_2011070805079?searchText=kjønnet' target='_blank' style='text-decoration:none'>Lady Chatterleys elsker, Lawrence, D.H., 1952</a>\n",
       "                </td>\n",
       "                <td>man kunne komme til å fremstille dette med</td>\n",
       "                <td>kjønnet</td>\n",
       "                <td style='text-align:left'>i et sentimentalt skjær</td>\n",
       "            </tr>\n",
       "<tr>\n",
       "                <td>\n",
       "                    <a href='http://www.nb.no/items/URN:NBN:no-nb_digibok_2011070805079?searchText=kjønnet' target='_blank' style='text-decoration:none'>Lady Chatterleys elsker, Lawrence, D.H., 1952</a>\n",
       "                </td>\n",
       "                <td>De ville ikke gi seg på dette med</td>\n",
       "                <td>kjønnet</td>\n",
       "                <td style='text-align:left'>, de pukket på</td>\n",
       "            </tr>\n",
       "<tr>\n",
       "                <td>\n",
       "                    <a href='http://www.nb.no/items/URN:NBN:no-nb_digibok_2011070805079?searchText=kjønnet' target='_blank' style='text-decoration:none'>Lady Chatterleys elsker, Lawrence, D.H., 1952</a>\n",
       "                </td>\n",
       "                <td>dikterne og de som snakket om dette med</td>\n",
       "                <td>kjønnet</td>\n",
       "                <td style='text-align:left'>, ikke lot til</td>\n",
       "            </tr>\n",
       "<tr>\n",
       "                <td>\n",
       "                    <a href='http://www.nb.no/items/URN:NBN:no-nb_digibok_2011070805079?searchText=kjønnet' target='_blank' style='text-decoration:none'>Lady Chatterleys elsker, Lawrence, D.H., 1952</a>\n",
       "                </td>\n",
       "                <td>snarere slik at hun kunne bruke dette med</td>\n",
       "                <td>kjønnet</td>\n",
       "                <td style='text-align:left'>til å ha makt</td>\n",
       "            </tr>\n",
       "<tr>\n",
       "                <td>\n",
       "                    <a href='http://www.nb.no/items/URN:NBN:no-nb_digibok_2013042908119?searchText=kjønnet' target='_blank' style='text-decoration:none'>Feber i blodet, Wallace, Irving, 1968</a>\n",
       "                </td>\n",
       "                <td>hva de har å fare med. De bruker</td>\n",
       "                <td>kjønnet</td>\n",
       "                <td style='text-align:left'>som våpen i kampen</td>\n",
       "            </tr>\n",
       "</table>"
      ],
      "text/plain": [
       "<IPython.core.display.HTML object>"
      ]
     },
     "execution_count": 227,
     "metadata": {},
     "output_type": "execute_result"
    }
   ],
   "source": [
    "konk('kjønnet')"
   ]
  },
  {
   "cell_type": "markdown",
   "metadata": {},
   "source": [
    "## Næranalyse av en enkelt tekst"
   ]
  },
  {
   "cell_type": "markdown",
   "metadata": {},
   "source": [
    "En eller flere ordlister for forskjellige formål. "
   ]
  },
  {
   "cell_type": "code",
   "execution_count": 77,
   "metadata": {},
   "outputs": [],
   "source": [
    "# Eksempel fra noen av ordene nevnt i den her sammenhengen\n",
    "words = \"\"\"brystene brystet låret lår lemmet presset presse presser stønnet stønne stønner leppene rev rive river flerret flerre flerrer\n",
    "snerret snerre snerrer kjønnet grotten stivt slapt slapp stive stiv\n",
    " kikket kikke kikker stirret stirre stirrer\"\"\".split()"
   ]
  },
  {
   "cell_type": "code",
   "execution_count": 78,
   "metadata": {},
   "outputs": [],
   "source": [
    "omsorg = \"\"\"hverandre holdt ømt varsomt følelse følte nærhet nærheten\"\"\".split()"
   ]
  },
  {
   "cell_type": "code",
   "execution_count": 36,
   "metadata": {},
   "outputs": [],
   "source": [
    "gladord = nb.relaterte_ord('glad, munter')"
   ]
  },
  {
   "cell_type": "markdown",
   "metadata": {},
   "source": [
    "# Grafanalyse av ordene i en enkelt tekst\n",
    "\n",
    "Her får du en graf som viser samforekomsten av ord. Det lages en kobling om ordene står i samme avsnitt. Det går også fint å lime en URN fra word-dokumentet."
   ]
  },
  {
   "cell_type": "code",
   "execution_count": 72,
   "metadata": {},
   "outputs": [
    {
     "name": "stdout",
     "output_type": "stream",
     "text": [
      "[[2013042408063, 'Croudace, Glynn', 1969, 'Riflen og spydet', 'Bladkompaniet', 'nob', 'eng']]\n"
     ]
    }
   ],
   "source": [
    "print(nb.metadata(urns[30]))"
   ]
  },
  {
   "cell_type": "code",
   "execution_count": 79,
   "metadata": {},
   "outputs": [],
   "source": [
    "G = nb.make_network(urns[30], wordbag=words+omsorg)"
   ]
  },
  {
   "cell_type": "code",
   "execution_count": null,
   "metadata": {},
   "outputs": [],
   "source": []
  },
  {
   "cell_type": "code",
   "execution_count": 229,
   "metadata": {},
   "outputs": [
    {
     "data": {
      "image/png": "[encoded data removed]",
      "text/plain": [
       "<Figure size 1080x720 with 1 Axes>"
      ]
     },
     "metadata": {},
     "output_type": "display_data"
    }
   ],
   "source": [
    "gnl.show_graph(G);"
   ]
  },
  {
   "cell_type": "code",
   "execution_count": 101,
   "metadata": {},
   "outputs": [],
   "source": [
    "lemmet = nb.urn_coll('lemmet', urns)"
   ]
  },
  {
   "cell_type": "code",
   "execution_count": 104,
   "metadata": {},
   "outputs": [
    {
     "data": {
      "text/plain": [
       "['2015090129001', '2011112308125', '2012021608164']"
      ]
     },
     "execution_count": 104,
     "metadata": {},
     "output_type": "execute_result"
    }
   ],
   "source": [
    "urns[:3]"
   ]
  },
  {
   "cell_type": "code",
   "execution_count": 211,
   "metadata": {},
   "outputs": [],
   "source": [
    "import requests\n",
    "def normalize_corpus_dataframe(df):\n",
    "    colsums = df.sum()\n",
    "    for x in colsums.index:\n",
    "        #print(x)\n",
    "        df[x] = df[x].fillna(0)/colsums[x]\n",
    "    return True\n",
    "\n",
    "def urn_coll(word, urns=[], after=5, before=5, limit=1000):\n",
    "    \"\"\"Find collocations for a word in a set of books represented by URNs.\n",
    "    Compute a collocation across the books, or pr. book. Both result in a one column dataframe representing\n",
    "    the collocations.\n",
    "    \"\"\"\n",
    "    \n",
    "    if isinstance(urns[0], list):  # urns assumed to be list of list with urn-serial as first element\n",
    "        urns = [u[0] for u in urns]\n",
    "    \n",
    "    r = requests.post(\"https://api.nb.no/ngram/urncoll\", json={'word':word, 'urns':urns, \n",
    "                                                                   'after':after, 'before':before, 'limit':limit})\n",
    "    res = pd.DataFrame.from_dict(r.json(), orient='index')\n",
    "    if not res.empty:\n",
    "        res = res.sort_values(by=res.columns[0], ascending = False)\n",
    "    return res\n",
    "\n",
    "def urn_coll_pr(word, urns=[], after=5, before=5, limit=1000):\n",
    "        coll = dict()\n",
    "        for urn in urns:\n",
    "            cll = urn_coll(word, [urn], after=after, before=before, limit=limit)\n",
    "            if not cll.empty:\n",
    "                coll[urn] = cll\n",
    "        colls = pd.DataFrame.from_dict(coll, orient='index' ).fillna(0)\n",
    "        normalize_corpus_dataframe(colls)\n",
    "        scoll = colls.mean(axis=1)\n",
    "        res = pd.DataFrame(scoll.sort_values(ascending=False))\n"
   ]
  },
  {
   "cell_type": "code",
   "execution_count": 42,
   "metadata": {},
   "outputs": [],
   "source": [
    "def collcomp(df_column, comp, exp = 1):\n",
    "    \"\"\"df_column is a column in a dataframe - a series, while comp is also a series object\"\"\"\n",
    "    res = (df_column**exp/comp).sort_values(ascending=False)\n",
    "    return res"
   ]
  },
  {
   "cell_type": "code",
   "execution_count": 237,
   "metadata": {},
   "outputs": [
    {
     "data": {
      "text/plain": [
       "196"
      ]
     },
     "execution_count": 237,
     "metadata": {},
     "output_type": "execute_result"
    }
   ],
   "source": [
    "len(nb.refine_urn(urns, {'words':[ 'armene'], 'limit':len(urns)}))"
   ]
  },
  {
   "cell_type": "code",
   "execution_count": 231,
   "metadata": {},
   "outputs": [
    {
     "data": {
      "text/plain": [
       "True"
      ]
     },
     "execution_count": 231,
     "metadata": {},
     "output_type": "execute_result"
    }
   ],
   "source": [
    "brst = urn_coll('brystene',urns=urns)\n",
    "nb.normalize_corpus_dataframe(brst)"
   ]
  },
  {
   "cell_type": "code",
   "execution_count": 234,
   "metadata": {},
   "outputs": [],
   "source": [
    "strittet = urn_coll('stritte',urns=urns)\n",
    "nb.normalize_corpus_dataframe(strittet)\n"
   ]
  },
  {
   "cell_type": "code",
   "execution_count": 239,
   "metadata": {},
   "outputs": [],
   "source": [
    "kollokasjoner = dict()\n",
    "def update_coll(koll, word, urns=urns):\n",
    "    koll[word] = urn_coll(word, urns=urns)\n",
    "    nb.normalize_corpus_dataframe(koll[word])\n",
    "    return True"
   ]
  },
  {
   "cell_type": "code",
   "execution_count": 244,
   "metadata": {},
   "outputs": [
    {
     "data": {
      "text/plain": [
       "True"
      ]
     },
     "execution_count": 244,
     "metadata": {},
     "output_type": "execute_result"
    }
   ],
   "source": [
    "update_coll(kollokasjoner, 'ømt')"
   ]
  },
  {
   "cell_type": "code",
   "execution_count": 245,
   "metadata": {},
   "outputs": [
    {
     "data": {
      "text/plain": [
       "dict_keys(['brystene', 'hoftene', 'skrittet', 'skuldrene', 'ømt'])"
      ]
     },
     "execution_count": 245,
     "metadata": {},
     "output_type": "execute_result"
    }
   ],
   "source": [
    "kollokasjoner.keys()"
   ]
  },
  {
   "cell_type": "code",
   "execution_count": 249,
   "metadata": {},
   "outputs": [
    {
     "data": {
      "text/plain": [
       "hoftene        209.701095\n",
       "kjærtegnet     144.968421\n",
       "leppestift     131.885110\n",
       "hårene         113.510763\n",
       "maven          112.710858\n",
       "Bloom           96.731275\n",
       "lårene          94.933882\n",
       "hengivelse      93.798577\n",
       "Berry           89.016186\n",
       "ergre           88.822002\n",
       "blondt          87.308532\n",
       "avgårde         86.160813\n",
       "Deborah         84.639044\n",
       "grusen          84.612013\n",
       "fotballen       82.146832\n",
       "sparke          81.880633\n",
       "lempet          80.272185\n",
       "klødde          77.481198\n",
       "barbent         71.806689\n",
       "flik            69.563415\n",
       "KenneB          68.890858\n",
       "motbydelige     68.520288\n",
       "besvimte        67.308703\n",
       "trev            67.227338\n",
       "guds            62.885912\n",
       "underlivet      56.446333\n",
       "pisken          54.975157\n",
       "pisket          53.682666\n",
       "Dahls           53.087230\n",
       "Doc             52.091511\n",
       "                  ...    \n",
       "übevisste             NaN\n",
       "übft                  NaN\n",
       "übi                   NaN\n",
       "übrukelig             NaN\n",
       "übrukelige            NaN\n",
       "übrukt                NaN\n",
       "übrutt                NaN\n",
       "übåt                  NaN\n",
       "übåten                NaN\n",
       "übåter                NaN\n",
       "übønnhørlig           NaN\n",
       "еп                    NaN\n",
       "‘                     NaN\n",
       "’                     NaN\n",
       "‚                     NaN\n",
       "“                     NaN\n",
       "”                     NaN\n",
       "„                     NaN\n",
       "•                     NaN\n",
       "€                     NaN\n",
       "™                     NaN\n",
       "■                     NaN\n",
       "□                     NaN\n",
       "▲                     NaN\n",
       "►                     NaN\n",
       "▼                     NaN\n",
       "★                     NaN\n",
       "♦                     NaN\n",
       "✓                     NaN\n",
       "❖                     NaN\n",
       "Length: 50160, dtype: float64"
      ]
     },
     "execution_count": 249,
     "metadata": {},
     "output_type": "execute_result"
    }
   ],
   "source": [
    "collcomp(kollokasjoner['skrittet'][0], tot, exp=1.2)"
   ]
  },
  {
   "cell_type": "code",
   "execution_count": 232,
   "metadata": {},
   "outputs": [],
   "source": [
    "compftt = collcomp(brst[0], tot)"
   ]
  },
  {
   "cell_type": "code",
   "execution_count": 233,
   "metadata": {},
   "outputs": [
    {
     "data": {
      "text/plain": [
       "blusen          595.802855\n",
       "kjærtegnet      595.221040\n",
       "hoftene         526.438646\n",
       "brystvortene    487.620372\n",
       "svulmende       449.246928\n",
       "fyldige         397.639912\n",
       "lårene          394.936381\n",
       "spisse          381.213510\n",
       "maven           317.758141\n",
       "nattkjolen      309.466358\n",
       "kløften         302.598461\n",
       "strittet        292.601660\n",
       "kvikke          263.643893\n",
       "svulmet         260.974371\n",
       "duvet           259.206551\n",
       "gynget          241.208286\n",
       "svaiet          202.555330\n",
       "bølget          190.862237\n",
       "kjenn           189.112232\n",
       "navlen          177.374899\n",
       "blottet         167.608654\n",
       "kysse           157.915286\n",
       "spede           149.861420\n",
       "innbydende      147.911802\n",
       "favne           147.759245\n",
       "lyserøde        145.678942\n",
       "frodige         136.345160\n",
       "hennes.         135.642950\n",
       "glapp           135.629507\n",
       "innmat          127.927150\n",
       "                   ...    \n",
       "übetydelige            NaN\n",
       "übevisst.              NaN\n",
       "übevisste              NaN\n",
       "übft                   NaN\n",
       "übi                    NaN\n",
       "übrukelig              NaN\n",
       "übrukelige             NaN\n",
       "übrukt                 NaN\n",
       "übrutt                 NaN\n",
       "übåt                   NaN\n",
       "übåten                 NaN\n",
       "übåter                 NaN\n",
       "übønnhørlig            NaN\n",
       "еп                     NaN\n",
       "‘                      NaN\n",
       "’                      NaN\n",
       "‚                      NaN\n",
       "“                      NaN\n",
       "”                      NaN\n",
       "„                      NaN\n",
       "€                      NaN\n",
       "™                      NaN\n",
       "□                      NaN\n",
       "▲                      NaN\n",
       "►                      NaN\n",
       "▼                      NaN\n",
       "★                      NaN\n",
       "♦                      NaN\n",
       "✓                      NaN\n",
       "❖                      NaN\n",
       "Length: 50599, dtype: float64"
      ]
     },
     "execution_count": 233,
     "metadata": {},
     "output_type": "execute_result"
    }
   ],
   "source": [
    "compftt"
   ]
  },
  {
   "cell_type": "code",
   "execution_count": 156,
   "metadata": {},
   "outputs": [],
   "source": [
    "colls = pd.DataFrame.from_dict(ilem, orient='index').transpose()"
   ]
  },
  {
   "cell_type": "code",
   "execution_count": 185,
   "metadata": {},
   "outputs": [
    {
     "name": "stdout",
     "output_type": "stream",
     "text": [
      "2010111706020 Trekk       19471.965343\n",
      "slappe      10597.711351\n",
      "stakkars     5078.468276\n",
      "greier       4485.701763\n",
      "mer           118.698234\n",
      "se            110.392707\n",
      "noe            80.758398\n",
      "dette          66.115703\n",
      "om             20.453312\n",
      "dtype: float64\n",
      "2007052104043 dine    1081.492106\n",
      "ditt    1070.164402\n",
      "inne     596.371050\n",
      "meg       71.082740\n",
      "har       20.199802\n",
      "det        7.856897\n",
      "dtype: float64\n",
      "2007050801042 Ovnene        32545.021492\n",
      "innenfra       8217.866308\n",
      "undersøker     6792.536027\n",
      "lystig         6173.691105\n",
      "myke           2288.777750\n",
      "spissen        2180.178246\n",
      "lukket          595.088378\n",
      "sterke          469.725129\n",
      "mitt            372.282865\n",
      "Bom             238.673254\n",
      "igjen            92.642812\n",
      "mot              29.019749\n",
      "opp              24.347468\n",
      "ut               18.485292\n",
      "Jeg              17.641747\n",
      "seg               8.794970\n",
      "det               5.237931\n",
      "dtype: float64\n",
      "2007051604017 Bt       9133.555937\n",
      "kam      5198.389032\n",
      "F         369.718973\n",
      "rundt     268.892008\n",
      "0         139.789349\n",
      "^          61.842459\n",
      "Han        52.528665\n",
      "dtype: float64\n",
      "2007080101051 varmt     2632.124980\n",
      "lille      732.654835\n",
      "kjente     612.206557\n",
      "inne       596.371050\n",
      "der         48.878233\n",
      "han         18.613267\n",
      "det          7.856897\n",
      "dtype: float64\n",
      "2008050900052 maksimal     15631.101795\n",
      "mannlige      9211.218499\n",
      "størrelse     2173.767144\n",
      "utført        2172.026399\n",
      "det             15.713794\n",
      "er               8.635333\n",
      "dtype: float64\n",
      "2011102508229 skammen    48094.001894\n",
      "munnen      1395.006737\n",
      "dro         1378.780803\n",
      "helt         199.240800\n",
      "inn           86.586627\n",
      "men           39.614748\n",
      "på            10.428481\n",
      "dtype: float64\n",
      "2007080101004 ansikt    1751.806462\n",
      "hånden     768.444524\n",
      "holdt      367.958806\n",
      "hans        94.940044\n",
      "hun         42.881608\n",
      "med         11.775475\n",
      "dtype: float64\n",
      "2007080801076 anelse    8040.960381\n",
      "ditt      1070.164402\n",
      "Jeg         52.925240\n",
      "—           34.230769\n",
      "?           14.145693\n",
      "på          10.428481\n",
      "av           9.134113\n",
      "er           8.635333\n",
      "det          7.856897\n",
      "dtype: float64\n",
      "2007041801060 fyltes          14418.677643\n",
      "håndflaten       7620.855288\n",
      "anBiktet         7218.302045\n",
      "kjærtegnet       4548.309737\n",
      "anklaget         3883.480559\n",
      "blinkende        3581.829941\n",
      "dominerte        2137.500561\n",
      "brutalt          2034.171706\n",
      "rende            1277.887181\n",
      "livs             1121.617494\n",
      "Bitt             1003.361415\n",
      "merkelige         844.883381\n",
      "landskap          814.835334\n",
      "magen             734.971274\n",
      "øyeblikkelig      567.461885\n",
      "skjult            423.659735\n",
      "kropp             367.049867\n",
      "merkelig          338.468265\n",
      "hode              330.834814\n",
      "brystet           290.743448\n",
      "strøk             238.079936\n",
      "hånd              232.645957\n",
      "blod              215.240477\n",
      "Samtidig          181.401283\n",
      "forsøkte          169.552574\n",
      "følte              86.526364\n",
      "uttrykk            81.595760\n",
      "legge              77.850771\n",
      "hånden             76.844452\n",
      "Bom                71.601976\n",
      "lange              71.474448\n",
      "bak                52.882167\n",
      "hans               37.976017\n",
      "Så                 23.938011\n",
      "ham                20.161301\n",
      "Dette              14.973653\n",
      "bli                12.672583\n",
      "over               11.450868\n",
      "sin                 7.745194\n",
      "opp                 7.304241\n",
      "Han                 5.252866\n",
      "dtype: float64\n",
      "2007032701087 nan3        17129.832850\n",
      "nanden      16692.568876\n",
      "Btod         6101.446250\n",
      "stramme      2885.110451\n",
      "musklene     2728.644978\n",
      "styrte       1339.836580\n",
      "løftet        332.995149\n",
      "unna          277.294253\n",
      "idet          175.633315\n",
      "lille         146.530967\n",
      "henne          45.822096\n",
      "tok            41.349472\n",
      "min            35.983900\n",
      "hans           18.988009\n",
      "opp            14.608481\n",
      "^              12.368492\n",
      "Jeg            10.585048\n",
      "hun             8.576322\n",
      "om              8.181325\n",
      "'               8.122838\n",
      "jeg             5.442985\n",
      "dtype: float64\n",
      "2013080808039 kolossalt      23634.536847\n",
      "praktfulle      7260.312320\n",
      "beherske        4795.154075\n",
      "fortvilelse     3624.313220\n",
      "brakte          2567.261930\n",
      "bevegelse        830.778612\n",
      "tanken           551.299660\n",
      "reise            343.757051\n",
      "Bare             342.791882\n",
      "hans              63.293362\n",
      "fikk              53.105410\n",
      "skulle            34.044298\n",
      "bare              29.017507\n",
      "inn               28.862209\n",
      "ham               22.401445\n",
      "seg               17.589940\n",
      "!                 15.981024\n",
      "ikke               5.192622\n",
      "dtype: float64\n",
      "2014111108090 Fort       12312.668734\n",
      "slengte     7544.812952\n",
      "fant         630.822413\n",
      "fram         273.515990\n",
      "hans          94.940044\n",
      "De            63.885837\n",
      "hun           42.881608\n",
      "til            8.440729\n",
      "dtype: float64\n",
      "2014120108218 høflighet    42686.723802\n",
      "vasket        7287.701732\n",
      "klærne        4592.494139\n",
      "dukket        2839.537208\n",
      "ned            156.481460\n",
      "meg             71.082740\n",
      "av              18.268226\n",
      "dtype: float64\n",
      "2008051904033 skjeden     49704.220102\n",
      "sytten      23785.006960\n",
      "inntrer     22246.731999\n",
      "sekunder     4781.258140\n",
      "innført      4552.936901\n",
      "etter          64.230902\n",
      "at             10.766260\n",
      "er              8.635333\n",
      "dtype: float64\n",
      "2014022708132 fremkalt       3200.038565\n",
      "prøvende       3017.155847\n",
      "instinkt       2773.427627\n",
      "imens          2290.977033\n",
      "støte          1469.589579\n",
      "smatt          1429.146124\n",
      "tærne          1376.181283\n",
      "stivt          1294.277087\n",
      "bevegelsene    1278.618894\n",
      "rykk           1185.162066\n",
      "Inntil          936.044000\n",
      "303             773.634051\n",
      "forgjeves       730.988438\n",
      "fingeren        697.895848\n",
      "uskyldig        692.058882\n",
      "foretok         686.364356\n",
      "krøp            627.105644\n",
      "stopper         616.971928\n",
      "griper          566.941456\n",
      "gli             397.250729\n",
      "pleier          349.144782\n",
      "latt            276.364048\n",
      "fingrene        249.161400\n",
      "vokste          245.658027\n",
      "vokser          243.755906\n",
      "lest            233.438096\n",
      "presset         215.783834\n",
      "sikte           214.426905\n",
      "foreta          199.885558\n",
      "merket          132.356242\n",
      "                  ...     \n",
      "akkurat          58.706771\n",
      "ellers           58.621610\n",
      "stedet           56.679055\n",
      "inne             45.874696\n",
      "lite             30.240982\n",
      "fått             27.147043\n",
      "tatt             27.134771\n",
      "rundt            20.684001\n",
      "aldri            20.594941\n",
      "hvordan          20.172076\n",
      "inn              19.981529\n",
      "like             19.483791\n",
      "jo               18.768499\n",
      "Så               18.413854\n",
      "hvis             17.778642\n",
      "skulle           15.712753\n",
      "helt             15.326215\n",
      "gjøre            14.519386\n",
      "hele             12.732942\n",
      "hadde            11.499599\n",
      "kunne            10.906598\n",
      "igjen            10.689555\n",
      "nå               10.426126\n",
      "før              10.099167\n",
      "jeg               8.373824\n",
      "få                8.357802\n",
      "der               7.519728\n",
      "Og                7.349737\n",
      "opp               5.618647\n",
      "Men               5.008295\n",
      "Length: 63, dtype: float64\n",
      "2013040824045 strittet          4002.501721\n",
      "førestillingen    2826.750842\n",
      "elastiske         1920.482022\n",
      "hardere            905.329668\n",
      "usannsynlig        817.947252\n",
      "fastere            773.487806\n",
      "boret              769.731231\n",
      "trangt             596.079634\n",
      "deilige            547.787343\n",
      "forover            544.943351\n",
      "klemte             505.481195\n",
      "brystene           501.119427\n",
      "Ganske             455.309709\n",
      "underlige          354.959687\n",
      "mildt              337.619525\n",
      "avbrøt             321.431662\n",
      "stivt              311.585225\n",
      "plante             306.254010\n",
      "stive              303.158130\n",
      "gled               260.919723\n",
      "spissen            242.242027\n",
      "leke               239.983498\n",
      "munnen             155.000749\n",
      "kysset             153.796858\n",
      "harde              148.763842\n",
      "trakk              143.492854\n",
      "105                 89.275632\n",
      "hang                80.645933\n",
      "slapp               79.220369\n",
      "møtte               73.961511\n",
      "                     ...     \n",
      "foran               20.411942\n",
      "ganger              20.267329\n",
      "mine                18.457447\n",
      "lett                18.381551\n",
      "lenger              17.291747\n",
      "begge               16.620658\n",
      "lå                  15.983305\n",
      "helt                14.758578\n",
      "frem                12.555431\n",
      "god                 11.899369\n",
      "langt               10.976802\n",
      "meg                 10.530776\n",
      "ut                  10.269607\n",
      "rundt                9.958963\n",
      "Han                  9.727531\n",
      "inn                  9.620736\n",
      "like                 9.381085\n",
      "Så                   8.865930\n",
      "litt                 7.629921\n",
      "jeg                  7.055722\n",
      "min                  6.663685\n",
      "gjennom              6.658946\n",
      "bare                 6.448335\n",
      "la                   6.360783\n",
      "hele                 6.130676\n",
      "sammen               6.036416\n",
      "Jeg                  5.880582\n",
      "ned                  5.795610\n",
      "oss                  5.210387\n",
      "igjen                5.146823\n",
      "Length: 91, dtype: float64\n",
      "2013042427001 stak        13909.123033\n",
      "hurtigt      8945.103846\n",
      "Langsomt     6232.857168\n",
      "længere      2725.411588\n",
      "lagde        1663.995563\n",
      "lod          1137.430247\n",
      "ind           641.091457\n",
      "anden         328.317660\n",
      "nu            110.173971\n",
      "blev          105.053405\n",
      "Så             79.793369\n",
      "siden          64.530532\n",
      "gang           62.290785\n",
      "første         52.785437\n",
      "Han            17.509555\n",
      "der            16.292744\n",
      "jeg             9.071642\n",
      "han             6.204422\n",
      "dtype: float64\n",
      "2007072001027 tørkede          15269.337091\n",
      "fingertuppene    10711.697625\n",
      "heten             7225.075553\n",
      "epler             5710.718433\n",
      "stivt             2804.267023\n",
      "stive             2728.423173\n",
      "ytterst           1941.445459\n",
      "holder             296.804445\n",
      "trenger            272.020482\n",
      "fast               161.144751\n",
      "gjennom             59.930516\n",
      "opp                 24.347468\n",
      "der                 16.292744\n",
      "dtype: float64\n",
      "2008042204154 rødlig     53231.735562\n",
      "hvelvet    40889.422274\n",
      "kruset     37053.967099\n",
      "magen       3674.856368\n",
      "mørkt       3150.881003\n",
      "høyt        1079.124474\n",
      "av             9.134113\n",
      "dtype: float64\n",
      "2007073001116 strakt     18427.019812\n",
      "krøllet     6842.319355\n",
      "fritt        757.095435\n",
      "jord         428.861045\n",
      "lå           143.849748\n",
      "lite         131.044256\n",
      "mer           79.132156\n",
      "blitt         76.141253\n",
      "mens          74.777810\n",
      "se            36.797569\n",
      "bare          29.017507\n",
      "inn           28.862209\n",
      "etter         21.410301\n",
      "ut            18.485292\n",
      "der           16.292744\n",
      "seg            8.794970\n",
      "dtype: float64\n",
      "2007060101041 reisning    60859.752631\n",
      "gledet       9827.603397\n",
      "svak         3310.683351\n",
      "meg            71.082740\n",
      "jeg            27.214927\n",
      "en              9.274065\n",
      "av              9.134113\n",
      "som             8.101864\n",
      "dtype: float64\n",
      "2007072401091 slapt       25954.856656\n",
      "strammet     5367.048898\n",
      "leke         2159.851485\n",
      "hånden        512.296350\n",
      "lot           240.821839\n",
      "lite          131.044256\n",
      "hans           94.940044\n",
      "like           84.429762\n",
      "Så             79.793369\n",
      "mens           74.777810\n",
      "Hun            69.411635\n",
      "la             57.247047\n",
      "over           19.084779\n",
      "var            14.004391\n",
      "seg             8.794970\n",
      "Det             8.570659\n",
      "dtype: float64\n",
      "2007080801010 strittet    18011.257744\n",
      "støt         4765.253370\n",
      "skjøt        1707.345458\n",
      "kraftig       640.426336\n",
      "reiste        271.832641\n",
      "kort          208.398738\n",
      "fram          182.343993\n",
      "langt          98.791221\n",
      "gikk           51.325288\n",
      "Og             31.848861\n",
      "Det            25.711977\n",
      "seg             8.794970\n",
      "det             5.237931\n",
      "dtype: float64\n",
      "2015102308104 ynkelige      4419.077679\n",
      "prakt         4301.495171\n",
      "deig          3473.575368\n",
      "innbiller     3012.911440\n",
      "Allah         2948.409161\n",
      "foretrekke    1812.096992\n",
      "fullkommen    1611.724981\n",
      "vokse          962.599628\n",
      "bønn           485.717045\n",
      "Hør            437.884840\n",
      "pekte          271.407698\n",
      "vakre          235.597990\n",
      "falle          232.233986\n",
      "slag           150.397180\n",
      "mitt           101.531690\n",
      "været           94.189221\n",
      "reise           93.751923\n",
      "øyeblikk        92.803496\n",
      "straks          90.693297\n",
      "engang          84.591952\n",
      "La              70.334193\n",
      "lille           66.604985\n",
      "mannen          61.153496\n",
      "unge            54.079603\n",
      "ga              51.393901\n",
      "spurte          42.055693\n",
      "stort           40.922976\n",
      "begynte         39.520855\n",
      "sitt            39.481816\n",
      "hans            34.523652\n",
      "mann            32.225404\n",
      "mest            29.311189\n",
      "tilbake         19.676969\n",
      "be              19.640989\n",
      "stor            16.979263\n",
      "min             16.356318\n",
      "la              15.612831\n",
      "For             14.568642\n",
      "fikk            14.483294\n",
      "samme           13.015012\n",
      "deg             12.106993\n",
      "når              9.243445\n",
      "ville            9.102833\n",
      "Og               8.686053\n",
      "seg              7.195885\n",
      "denne            6.843097\n",
      "han              6.768461\n",
      "opp              6.640219\n",
      "Men              5.918895\n",
      "vil              5.073085\n",
      "dtype: float64\n",
      "2011120108092 selvom      46465.936030\n",
      "steinene    15500.827575\n",
      "skaret      13006.343361\n",
      "fått          352.911564\n",
      "har            20.199802\n",
      "de             15.334457\n",
      "av              9.134113\n",
      "dtype: float64\n",
      "2013101408151 mangelfullt    49638.753318\n",
      "tungen          9565.049708\n",
      "utviklet        1645.431439\n",
      "eneste           467.791869\n",
      "var               28.008782\n",
      "ikke              15.577866\n",
      "som                8.101864\n",
      "det                7.856897\n",
      "dtype: float64\n",
      "2010111606062 nakent       50162.681875\n",
      "ølet         30791.466905\n",
      "bevegelse     2492.335837\n",
      "står           332.944363\n",
      "sitt           217.149989\n",
      "over            57.254338\n",
      "han             18.613267\n",
      "som              8.101864\n",
      "dtype: float64\n",
      "2007072600021 kløften     33527.909485\n",
      "øyeblikk     1020.838452\n",
      "holder        890.413334\n",
      "ned           156.481460\n",
      "mot            87.059246\n",
      "så             33.298996\n",
      "et             21.213118\n",
      "og              7.905926\n",
      "dtype: float64\n",
      "2007051101017 skrotten    98539.756358\n",
      "flådd       96300.116044\n",
      "sund        12003.144091\n",
      "ned           156.481460\n",
      "har            20.199802\n",
      "og              7.905926\n",
      "dtype: float64\n",
      "2007050400029 varmen    4569.809029\n",
      "reiste     815.497923\n",
      "henne      114.555241\n",
      "hans        94.940044\n",
      "Men         65.107841\n",
      "et          21.213118\n",
      "av           9.134113\n",
      "som          8.101864\n",
      "dtype: float64\n",
      "2007051001011 vatt          19064.988894\n",
      "lram          16716.730130\n",
      "borer         14245.892943\n",
      "underlivet    13294.756087\n",
      "tildake        7404.203278\n",
      "lan            1458.199283\n",
      "ur             1225.188263\n",
      "nan             316.124248\n",
      "lar             301.675586\n",
      "V                79.867331\n",
      "gjennom          44.947887\n",
      "6                40.394578\n",
      "0                34.947337\n",
      "^                30.921229\n",
      "hans             23.735011\n",
      "mot              21.764811\n",
      "inn              21.646657\n",
      "ham              16.801084\n",
      "2                10.755785\n",
      "I                 8.234335\n",
      "seg               6.596228\n",
      "dtype: float64\n"
     ]
    }
   ],
   "source": [
    "for u in ilem:\n",
    "    print(u, ilem[u][ilem[u] > 5])"
   ]
  },
  {
   "cell_type": "code",
   "execution_count": 129,
   "metadata": {},
   "outputs": [
    {
     "data": {
      "text/plain": [
       "32"
      ]
     },
     "execution_count": 129,
     "metadata": {},
     "output_type": "execute_result"
    }
   ],
   "source": [
    "len(nb.refine_urn(urns, {'words':['lemmet'], 'limit':len(urns)}))"
   ]
  },
  {
   "cell_type": "code",
   "execution_count": 130,
   "metadata": {},
   "outputs": [
    {
     "data": {
      "text/plain": [
       "46"
      ]
     },
     "execution_count": 130,
     "metadata": {},
     "output_type": "execute_result"
    }
   ],
   "source": [
    "len([x for x in urns if not lem[x].empty])"
   ]
  },
  {
   "cell_type": "code",
   "execution_count": 135,
   "metadata": {},
   "outputs": [],
   "source": [
    "for urn in urns:\n",
    "    if urn in lem and lem[urn].empty:\n",
    "        del lem[urn]"
   ]
  },
  {
   "cell_type": "code",
   "execution_count": 137,
   "metadata": {},
   "outputs": [
    {
     "data": {
      "text/plain": [
       "32"
      ]
     },
     "execution_count": 137,
     "metadata": {},
     "output_type": "execute_result"
    }
   ],
   "source": []
  },
  {
   "cell_type": "code",
   "execution_count": 106,
   "metadata": {},
   "outputs": [],
   "source": [
    "nb.urn_coll??"
   ]
  },
  {
   "cell_type": "code",
   "execution_count": 60,
   "metadata": {},
   "outputs": [
    {
     "data": {
      "text/plain": [
       "True"
      ]
     },
     "execution_count": 60,
     "metadata": {},
     "output_type": "execute_result"
    }
   ],
   "source": [
    "nb.normalize_corpus_dataframe(lemmet)"
   ]
  },
  {
   "cell_type": "code",
   "execution_count": 62,
   "metadata": {},
   "outputs": [
    {
     "data": {
      "text/html": [
       "<div>\n",
       "<style scoped>\n",
       "    .dataframe tbody tr th:only-of-type {\n",
       "        vertical-align: middle;\n",
       "    }\n",
       "\n",
       "    .dataframe tbody tr th {\n",
       "        vertical-align: top;\n",
       "    }\n",
       "\n",
       "    .dataframe thead th {\n",
       "        text-align: right;\n",
       "    }\n",
       "</style>\n",
       "<table border=\"1\" class=\"dataframe\">\n",
       "  <thead>\n",
       "    <tr style=\"text-align: right;\">\n",
       "      <th></th>\n",
       "      <th>0</th>\n",
       "    </tr>\n",
       "  </thead>\n",
       "  <tbody>\n",
       "    <tr>\n",
       "      <th>,</th>\n",
       "      <td>0.059091</td>\n",
       "    </tr>\n",
       "    <tr>\n",
       "      <th>og</th>\n",
       "      <td>0.051515</td>\n",
       "    </tr>\n",
       "    <tr>\n",
       "      <th>.</th>\n",
       "      <td>0.041667</td>\n",
       "    </tr>\n",
       "    <tr>\n",
       "      <th>det</th>\n",
       "      <td>0.029545</td>\n",
       "    </tr>\n",
       "    <tr>\n",
       "      <th>hans</th>\n",
       "      <td>0.028030</td>\n",
       "    </tr>\n",
       "  </tbody>\n",
       "</table>\n",
       "</div>"
      ],
      "text/plain": [
       "             0\n",
       ",     0.059091\n",
       "og    0.051515\n",
       ".     0.041667\n",
       "det   0.029545\n",
       "hans  0.028030"
      ]
     },
     "execution_count": 62,
     "metadata": {},
     "output_type": "execute_result"
    }
   ],
   "source": [
    "lemmet.head()"
   ]
  },
  {
   "cell_type": "code",
   "execution_count": 39,
   "metadata": {},
   "outputs": [],
   "source": [
    "tot = pd.Series(nb.totals(top=50000))"
   ]
  },
  {
   "cell_type": "code",
   "execution_count": 56,
   "metadata": {},
   "outputs": [],
   "source": [
    "tot = tot/tot.sum()"
   ]
  },
  {
   "cell_type": "code",
   "execution_count": 52,
   "metadata": {},
   "outputs": [],
   "source": [
    "korpus_text = nb.get_corpus_text(urns)"
   ]
  },
  {
   "cell_type": "code",
   "execution_count": 53,
   "metadata": {},
   "outputs": [],
   "source": [
    "korpus_ord = korpus_text.sum(axis=1)"
   ]
  },
  {
   "cell_type": "code",
   "execution_count": 64,
   "metadata": {},
   "outputs": [],
   "source": [
    "korpus_ord = korpus_ord/korpus_ord.sum()"
   ]
  },
  {
   "cell_type": "code",
   "execution_count": 65,
   "metadata": {},
   "outputs": [
    {
     "data": {
      "text/plain": [
       " Alexander                5.924223e-08\n",
       " Amandhlambene            5.924223e-08\n",
       " Amethyst,                5.924223e-08\n",
       " Avgjort.                 5.924223e-08\n",
       " Basilissa                5.924223e-08\n",
       " Begynn                   5.924223e-08\n",
       " Bestandig,               5.924223e-08\n",
       " Besvimt,                 5.924223e-08\n",
       " Boerne                   5.924223e-08\n",
       " Bortenfor                5.924223e-08\n",
       " Broene                   5.924223e-08\n",
       " Capribukser...           5.924223e-08\n",
       " Carpenter,               5.924223e-08\n",
       " DUBROVSKII.              5.924223e-08\n",
       " David                    5.924223e-08\n",
       " David,                   5.924223e-08\n",
       " Denne                    5.924223e-08\n",
       " Dere                     5.924223e-08\n",
       " Derfor                   5.924223e-08\n",
       " Dessuten                 5.924223e-08\n",
       " Dette                    5.924223e-08\n",
       " Dokumentasjonssentret    5.924223e-08\n",
       " Donnezmoi                5.924223e-08\n",
       " Dopplereffekt            5.924223e-08\n",
       " Dugazon                  5.924223e-08\n",
       " Egentlig                 1.184845e-07\n",
       " Egoistiske,              5.924223e-08\n",
       " Elevator,                5.924223e-08\n",
       " Engelskmennene           5.924223e-08\n",
       " Erosjonen                5.924223e-08\n",
       "                              ...     \n",
       "üßannßvnliFe              5.924223e-08\n",
       "üßedvanliZ                5.924223e-08\n",
       "üßtadiF                   5.924223e-08\n",
       "üßtoppeliF                5.924223e-08\n",
       "üßvnliF                   5.924223e-08\n",
       "üßvnlige                  5.924223e-08\n",
       "—                         6.566942e-03\n",
       "—\"simulatoren             5.924223e-08\n",
       "—Hvordan                  5.924223e-08\n",
       "—ingenting?»              5.924223e-08\n",
       "‘                         1.184845e-06\n",
       "’                         8.080641e-05\n",
       "’forhenværende’           5.924223e-08\n",
       "’hvertfall                5.924223e-08\n",
       "“                         8.886335e-07\n",
       "”                         4.739379e-07\n",
       "„                         1.232238e-05\n",
       "•                         1.281409e-04\n",
       "•:                        5.924223e-08\n",
       "•rnerede                  5.924223e-08\n",
       "€                         1.066360e-06\n",
       "™                         4.383925e-06\n",
       "■                         1.249419e-04\n",
       "□                         9.360273e-06\n",
       "►                         8.886335e-07\n",
       "▼                         2.962112e-07\n",
       "★                         1.184845e-07\n",
       "♦                         7.701490e-07\n",
       "✓                         5.331801e-07\n",
       "❖                         5.924223e-08\n",
       "Length: 394405, dtype: float64"
      ]
     },
     "execution_count": 65,
     "metadata": {},
     "output_type": "execute_result"
    }
   ],
   "source": [
    "korpus_ord"
   ]
  },
  {
   "cell_type": "code",
   "execution_count": 86,
   "metadata": {},
   "outputs": [
    {
     "data": {
      "text/plain": [
       "Ovnene            403.787709\n",
       "strittet          363.514789\n",
       "nan3              354.217821\n",
       "nanden            345.175894\n",
       "fyltes            298.155424\n",
       "rødlig            220.149601\n",
       "skjeden           205.560915\n",
       "skrotten          177.387399\n",
       "flådd             173.355687\n",
       "stak              172.571185\n",
       "hvelvet           169.105702\n",
       "slapt             161.011602\n",
       "kruset            153.243474\n",
       "førestillingen    137.392358\n",
       "vatt              137.280177\n",
       "håndflaten        137.187644\n",
       "anBiktet          129.941039\n",
       "kolossalt         127.637895\n",
       "Btod              126.168248\n",
       "lram              120.371204\n",
       "dtype: float64"
      ]
     },
     "execution_count": 86,
     "metadata": {},
     "output_type": "execute_result"
    }
   ],
   "source": [
    "collcomp(lemmet[0], tot, exp=1.2)[:20]"
   ]
  },
  {
   "cell_type": "code",
   "execution_count": 69,
   "metadata": {},
   "outputs": [
    {
     "data": {
      "text/plain": [
       "dunkvlling          25575.530303\n",
       "morgenstivt         25575.530303\n",
       "hevstang            25575.530303\n",
       "halwejs             25575.530303\n",
       "vellystbringende    25575.530303\n",
       "bakoverlenet        12787.765152\n",
       "pla3ket             12787.765152\n",
       "Bapevannet          12787.765152\n",
       "bankende,           12787.765152\n",
       "kaldbadet.          12787.765152\n",
       "bakerovnaktige      12787.765152\n",
       "størrelse.           8525.176768\n",
       "ampen6e              6393.882576\n",
       "sX                   6393.882576\n",
       "Btreile              6393.882576\n",
       "fingergrep           6393.882576\n",
       "Kjenteß              6393.882576\n",
       "bemektiger           6393.882576\n",
       "danß                 5115.106061\n",
       "tyttebærrøde         5115.106061\n",
       "kloaktige            4262.588384\n",
       "bjørnen.             4262.588384\n",
       "hovden               4262.588384\n",
       "makeløse             4262.588384\n",
       "bikker               3196.941288\n",
       "maksimal             3196.941288\n",
       "voksede              2841.725589\n",
       "kramme               2557.553030\n",
       "pningen              2557.553030\n",
       "vibrasjonene         2557.553030\n",
       "Lricß                2131.294192\n",
       "Stivt                2131.294192\n",
       "inntrer              2131.294192\n",
       "hurtigt              1967.348485\n",
       "mirakuløs            1967.348485\n",
       "mkte                 1598.470644\n",
       "skjeden              1598.470644\n",
       "bakende              1420.862795\n",
       "betonggulvet         1420.862795\n",
       "Innbiller            1278.776515\n",
       "Harolds              1217.882395\n",
       "underkroppen         1162.524105\n",
       "kropps               1111.979578\n",
       "skrumpe              1065.647096\n",
       "sund                  983.674242\n",
       "herskerinnen          983.674242\n",
       "Lises                 983.674242\n",
       "mirakuløst            913.411797\n",
       "væten                 913.411797\n",
       "lenk                  881.914838\n",
       "dtype: float64"
      ]
     },
     "execution_count": 69,
     "metadata": {},
     "output_type": "execute_result"
    }
   ],
   "source": [
    "collcomp(lemmet[0], korpus_ord, exp=1.0).head(50)"
   ]
  },
  {
   "cell_type": "markdown",
   "metadata": {},
   "source": [
    "# Vekstdiagram\n",
    "\n",
    "For vekstdiagram brukes kommandoen nb.vekstdiagram().plot(). Input til vekstdiagram er en URN sammen med en liste av ord. "
   ]
  },
  {
   "cell_type": "code",
   "execution_count": 38,
   "metadata": {},
   "outputs": [
    {
     "name": "stdout",
     "output_type": "stream",
     "text": [
      "[[2013042408063, 'Croudace, Glynn', 1969, 'Riflen og spydet', 'Bladkompaniet', 'nob', 'eng']]\n"
     ]
    },
    {
     "name": "stderr",
     "output_type": "stream",
     "text": [
      "C:\\Users\\larsj\\Documents\\GitHub\\xmining\\nbtext.py:1022: FutureWarning: Sorting because non-concatenation axis is not aligned. A future version\n",
      "of pandas will change to not sort by default.\n",
      "\n",
      "To accept the future behavior, pass 'sort=False'.\n",
      "\n",
      "To retain the current behavior and silence the warning, pass 'sort=True'.\n",
      "\n",
      "  return pd.concat(rammer)\n"
     ]
    },
    {
     "data": {
      "text/plain": [
       "<matplotlib.axes._subplots.AxesSubplot at 0x20543d36198>"
      ]
     },
     "execution_count": 38,
     "metadata": {},
     "output_type": "execute_result"
    },
    {
     "data": {
      "image/png": "[encoded data removed]",
      "text/plain": [
       "<Figure size 1080x360 with 1 Axes>"
      ]
     },
     "metadata": {
      "needs_background": "light"
     },
     "output_type": "display_data"
    }
   ],
   "source": [
    "print(nb.metadata(urns[30]))\n",
    "nb.plot_sammen_vekst(urns[30], [words,gladord]).plot(figsize=(15,5))"
   ]
  },
  {
   "cell_type": "code",
   "execution_count": 78,
   "metadata": {},
   "outputs": [
    {
     "data": {
      "text/plain": [
       "<matplotlib.axes._subplots.AxesSubplot at 0x1e051984eb8>"
      ]
     },
     "execution_count": 78,
     "metadata": {},
     "output_type": "execute_result"
    },
    {
     "data": {
      "image/png": "[encoded data removed]",
      "text/plain": [
       "<matplotlib.figure.Figure at 0x1e04f48aa20>"
      ]
     },
     "metadata": {},
     "output_type": "display_data"
    }
   ],
   "source": [
    "nb.plot_sammen_vekst(urns[30],[words, gladord]).plot()"
   ]
  }
 ],
 "metadata": {
  "hide_input": false,
  "kernelspec": {
   "display_name": "Python 3",
   "language": "python",
   "name": "python3"
  },
  "language_info": {
   "codemirror_mode": {
    "name": "ipython",
    "version": 3
   },
   "file_extension": ".py",
   "mimetype": "text/x-python",
   "name": "python",
   "nbconvert_exporter": "python",
   "pygments_lexer": "ipython3",
   "version": "3.7.1"
  }
 },
 "nbformat": 4,
 "nbformat_minor": 2
}

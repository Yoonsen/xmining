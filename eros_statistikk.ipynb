{
 "cells": [
  {
   "cell_type": "markdown",
   "metadata": {},
   "source": [
    "# Notebook for erosmining\n"
   ]
  },
  {
   "cell_type": "markdown",
   "metadata": {},
   "source": [
    "Importerer nbtext og også pandas for å gjøre statistikken."
   ]
  },
  {
   "cell_type": "code",
   "execution_count": 1,
   "metadata": {},
   "outputs": [],
   "source": [
    "import module_update\n",
    "import nbtext as nb\n",
    "import pandas as pd\n",
    "\n",
    "%matplotlib inline"
   ]
  },
  {
   "cell_type": "markdown",
   "metadata": {},
   "source": [
    "## Hent URN-er fra Word-dokument"
   ]
  },
  {
   "cell_type": "code",
   "execution_count": 2,
   "metadata": {},
   "outputs": [
    {
     "name": "stdout",
     "output_type": "stream",
     "text": [
      "Antall URNer:  383\n"
     ]
    }
   ],
   "source": [
    "urns = nb.get_urns_from_docx('../Materiale erotisk litteratur 1945-1970 liste 27.09.18.docx')\n",
    "urns = list(set(urns))\n",
    "print('Antall URNer: ', len(urns))"
   ]
  },
  {
   "cell_type": "markdown",
   "metadata": {},
   "source": [
    "## Hent litt metadata og sjekk hva det er data for"
   ]
  },
  {
   "cell_type": "code",
   "execution_count": 3,
   "metadata": {},
   "outputs": [],
   "source": [
    "# rekonstruerer metadata for URN-ene (tar litt tid...)\n",
    "meta = nb.metadata(urns)"
   ]
  },
  {
   "cell_type": "markdown",
   "metadata": {},
   "source": [
    "### Det mangler ca 180\n",
    "\n",
    "URN-er som det ikke er metadata på i basen. Noe er fordi det er digitalisert sent i 2016, 2017 og 2018. De kommer med senere i år."
   ]
  },
  {
   "cell_type": "code",
   "execution_count": 4,
   "metadata": {},
   "outputs": [
    {
     "data": {
      "text/plain": [
       "198"
      ]
     },
     "execution_count": 4,
     "metadata": {},
     "output_type": "execute_result"
    }
   ],
   "source": [
    "len(meta)"
   ]
  },
  {
   "cell_type": "code",
   "execution_count": 5,
   "metadata": {},
   "outputs": [
    {
     "data": {
      "text/plain": [
       "{2007050201054,\n",
       " 2007072301019,\n",
       " 2008042400058,\n",
       " 2012111908135,\n",
       " 2012112305008,\n",
       " 2013052908050,\n",
       " 2016112348565,\n",
       " 2016112408030,\n",
       " 2016112408044,\n",
       " 2016112808031,\n",
       " 2016112908141,\n",
       " 2016113008001,\n",
       " 2016113008002,\n",
       " 2016113008006,\n",
       " 2016113008024,\n",
       " 2016113008067,\n",
       " 2016121448508,\n",
       " 2017020808081,\n",
       " 2017020808088,\n",
       " 2017020808089,\n",
       " 2017020808094,\n",
       " 2017020808097,\n",
       " 2017020808118,\n",
       " 2017020808185,\n",
       " 2017020808195,\n",
       " 2017021008040,\n",
       " 2017021408042,\n",
       " 2017021408065,\n",
       " 2017021408086,\n",
       " 2017021408087,\n",
       " 2017021408104,\n",
       " 2017021608007,\n",
       " 2017021708016,\n",
       " 2017021708021,\n",
       " 2017022848047,\n",
       " 2017022848116,\n",
       " 2017030108037,\n",
       " 2017030808111,\n",
       " 2017031548012,\n",
       " 2017031608003,\n",
       " 2017031748088,\n",
       " 2017032148027,\n",
       " 2017032708038,\n",
       " 2017032948108,\n",
       " 2017033148065,\n",
       " 2017040408015,\n",
       " 2017040448077,\n",
       " 2017050348036,\n",
       " 2017050348037,\n",
       " 2017051148150,\n",
       " 2017051548001,\n",
       " 2017051548002,\n",
       " 2017051548004,\n",
       " 2017051548014,\n",
       " 2017051548015,\n",
       " 2017051548018,\n",
       " 2017051548038,\n",
       " 2017051548045,\n",
       " 2017051548050,\n",
       " 2017051548053,\n",
       " 2017051548056,\n",
       " 2017051548059,\n",
       " 2017051548063,\n",
       " 2017051548065,\n",
       " 2017051548080,\n",
       " 2017051548081,\n",
       " 2017051548086,\n",
       " 2017051548087,\n",
       " 2017051548090,\n",
       " 2017051548091,\n",
       " 2017051548097,\n",
       " 2017051548101,\n",
       " 2017051548102,\n",
       " 2017051548105,\n",
       " 2017051548106,\n",
       " 2017051548108,\n",
       " 2017051548109,\n",
       " 2017051548111,\n",
       " 2017051548112,\n",
       " 2017051548113,\n",
       " 2017051548115,\n",
       " 2017051548119,\n",
       " 2017051548121,\n",
       " 2017051548124,\n",
       " 2017051548176,\n",
       " 2017051548184,\n",
       " 2017051548185,\n",
       " 2017051548186,\n",
       " 2017051548188,\n",
       " 2017051548195,\n",
       " 2017051548196,\n",
       " 2017051648032,\n",
       " 2017051648034,\n",
       " 2017051648036,\n",
       " 2017051648037,\n",
       " 2017051648038,\n",
       " 2017051648039,\n",
       " 2017051648044,\n",
       " 2017051648052,\n",
       " 2017051648061,\n",
       " 2017051648064,\n",
       " 2017051648070,\n",
       " 2017051648078,\n",
       " 2017053048054,\n",
       " 2017060148096,\n",
       " 2017060148165,\n",
       " 2017060708005,\n",
       " 2017060708009,\n",
       " 2017060708012,\n",
       " 2017060708029,\n",
       " 2017060708054,\n",
       " 2017061248008,\n",
       " 2017061248034,\n",
       " 2017061248086,\n",
       " 2017061248092,\n",
       " 2017061248098,\n",
       " 2017061608012,\n",
       " 2017061608109,\n",
       " 2017061608110,\n",
       " 2017061608116,\n",
       " 2017061608117,\n",
       " 2017061608118,\n",
       " 2017061608130,\n",
       " 2017061608135,\n",
       " 2017061608142,\n",
       " 2017061608145,\n",
       " 2017061608146,\n",
       " 2017061608147,\n",
       " 2017061608168,\n",
       " 2017061608169,\n",
       " 2017061608173,\n",
       " 2017061608174,\n",
       " 2017061908003,\n",
       " 2017061908013,\n",
       " 2017061908015,\n",
       " 2017061908016,\n",
       " 2017061908017,\n",
       " 2017061908019,\n",
       " 2017061908024,\n",
       " 2017061908039,\n",
       " 2017061908043,\n",
       " 2017061908054,\n",
       " 2017061908058,\n",
       " 2017061908065,\n",
       " 2017061908080,\n",
       " 2017061908083,\n",
       " 2017061908084,\n",
       " 2017061908091,\n",
       " 2017061908093,\n",
       " 2017061908098,\n",
       " 2017061908116,\n",
       " 2017061908117,\n",
       " 2017061908120,\n",
       " 2017061908121,\n",
       " 2017061908137,\n",
       " 2017061908142,\n",
       " 2017061908159,\n",
       " 2017061908173,\n",
       " 2017061908181,\n",
       " 2017062108022,\n",
       " 2017062108053,\n",
       " 2017062708126,\n",
       " 2017062708127,\n",
       " 2017062708138,\n",
       " 2017062708139,\n",
       " 2017062708156,\n",
       " 2017062808091,\n",
       " 2017062808162,\n",
       " 2017062808165,\n",
       " 2017062808193,\n",
       " 2017070507163,\n",
       " 2017070707082,\n",
       " 2017080248038,\n",
       " 2017081748110,\n",
       " 2017090748035,\n",
       " 2017100348053,\n",
       " 2017100348061,\n",
       " 2017100348072,\n",
       " 2017100348081,\n",
       " 2017100348102,\n",
       " 2018022709528,\n",
       " 2018022709573,\n",
       " 2018022709584,\n",
       " 2018030848009,\n",
       " 2018030848017}"
      ]
     },
     "execution_count": 5,
     "metadata": {},
     "output_type": "execute_result"
    }
   ],
   "source": [
    "# Liste over URNer som ikke er med i datasettet, ca. 180\n",
    "\n",
    "(set([int(urn) for urn in urns]) - set([x[0] for x in meta if x != []]))"
   ]
  },
  {
   "cell_type": "markdown",
   "metadata": {},
   "source": [
    "# Lag en dataramme for metadataene"
   ]
  },
  {
   "cell_type": "code",
   "execution_count": 6,
   "metadata": {},
   "outputs": [],
   "source": [
    "m_data = pd.DataFrame(meta)"
   ]
  },
  {
   "cell_type": "code",
   "execution_count": 7,
   "metadata": {},
   "outputs": [],
   "source": [
    "m_data.columns = [\"urn\", \"forfatter\", \"år\", \"tittel\", \"forlag\", \"språk\", \"originalspråk\"]"
   ]
  },
  {
   "cell_type": "markdown",
   "metadata": {},
   "source": [
    "### Rammen ser sånn ut, her med de første radene"
   ]
  },
  {
   "cell_type": "code",
   "execution_count": 8,
   "metadata": {},
   "outputs": [
    {
     "data": {
      "text/html": [
       "<div>\n",
       "<style scoped>\n",
       "    .dataframe tbody tr th:only-of-type {\n",
       "        vertical-align: middle;\n",
       "    }\n",
       "\n",
       "    .dataframe tbody tr th {\n",
       "        vertical-align: top;\n",
       "    }\n",
       "\n",
       "    .dataframe thead th {\n",
       "        text-align: right;\n",
       "    }\n",
       "</style>\n",
       "<table border=\"1\" class=\"dataframe\">\n",
       "  <thead>\n",
       "    <tr style=\"text-align: right;\">\n",
       "      <th></th>\n",
       "      <th>urn</th>\n",
       "      <th>forfatter</th>\n",
       "      <th>år</th>\n",
       "      <th>tittel</th>\n",
       "      <th>forlag</th>\n",
       "      <th>språk</th>\n",
       "      <th>originalspråk</th>\n",
       "    </tr>\n",
       "  </thead>\n",
       "  <tbody>\n",
       "    <tr>\n",
       "      <th>0</th>\n",
       "      <td>2015062308071</td>\n",
       "      <td>Nabokov, Vladimir</td>\n",
       "      <td>1959.0</td>\n",
       "      <td>Lolita</td>\n",
       "      <td>Cappelen</td>\n",
       "      <td>nob</td>\n",
       "      <td></td>\n",
       "    </tr>\n",
       "    <tr>\n",
       "      <th>1</th>\n",
       "      <td>2007052104071</td>\n",
       "      <td>Genet, Jean</td>\n",
       "      <td>1966.0</td>\n",
       "      <td>Tyvens dagbok</td>\n",
       "      <td>Cappelen</td>\n",
       "      <td>nob</td>\n",
       "      <td>fre</td>\n",
       "    </tr>\n",
       "    <tr>\n",
       "      <th>2</th>\n",
       "      <td>2016112148562</td>\n",
       "      <td>Miller, Wade</td>\n",
       "      <td>1960.0</td>\n",
       "      <td>Hunkatt med svepe</td>\n",
       "      <td>Ingar Weyer Tveitan</td>\n",
       "      <td>nob</td>\n",
       "      <td>eng</td>\n",
       "    </tr>\n",
       "    <tr>\n",
       "      <th>3</th>\n",
       "      <td>2013042338044</td>\n",
       "      <td>Masterson, Louis</td>\n",
       "      <td>1967.0</td>\n",
       "      <td>rangers ære</td>\n",
       "      <td>Bladkompaniet</td>\n",
       "      <td>nob</td>\n",
       "      <td></td>\n",
       "    </tr>\n",
       "    <tr>\n",
       "      <th>4</th>\n",
       "      <td>2010120905006</td>\n",
       "      <td>Metalious, Grace</td>\n",
       "      <td>1965.0</td>\n",
       "      <td>En by ved navn Peyton</td>\n",
       "      <td>Essforlagene</td>\n",
       "      <td>nob</td>\n",
       "      <td></td>\n",
       "    </tr>\n",
       "  </tbody>\n",
       "</table>\n",
       "</div>"
      ],
      "text/plain": [
       "             urn          forfatter      år                 tittel  \\\n",
       "0  2015062308071  Nabokov, Vladimir  1959.0                 Lolita   \n",
       "1  2007052104071        Genet, Jean  1966.0          Tyvens dagbok   \n",
       "2  2016112148562       Miller, Wade  1960.0      Hunkatt med svepe   \n",
       "3  2013042338044   Masterson, Louis  1967.0            rangers ære   \n",
       "4  2010120905006   Metalious, Grace  1965.0  En by ved navn Peyton   \n",
       "\n",
       "                forlag språk originalspråk  \n",
       "0             Cappelen   nob                \n",
       "1             Cappelen   nob           fre  \n",
       "2  Ingar Weyer Tveitan   nob           eng  \n",
       "3        Bladkompaniet   nob                \n",
       "4         Essforlagene   nob                "
      ]
     },
     "execution_count": 8,
     "metadata": {},
     "output_type": "execute_result"
    }
   ],
   "source": [
    "m_data[:5]"
   ]
  },
  {
   "cell_type": "markdown",
   "metadata": {},
   "source": [
    "## Statistikk for kolonnene\n",
    "\n"
   ]
  },
  {
   "cell_type": "code",
   "execution_count": 9,
   "metadata": {},
   "outputs": [
    {
     "data": {
      "text/plain": [
       "<matplotlib.axes._subplots.AxesSubplot at 0x2ebd1e89320>"
      ]
     },
     "execution_count": 9,
     "metadata": {},
     "output_type": "execute_result"
    },
    {
     "data": {
      "image/png": "[encoded data removed]",
      "text/plain": [
       "<Figure size 720x1080 with 1 Axes>"
      ]
     },
     "metadata": {
      "needs_background": "light"
     },
     "output_type": "display_data"
    }
   ],
   "source": [
    "m_data['forlag'].value_counts().plot(kind='barh', figsize=(10,15))"
   ]
  },
  {
   "cell_type": "code",
   "execution_count": 10,
   "metadata": {},
   "outputs": [
    {
     "data": {
      "text/plain": [
       "<matplotlib.axes._subplots.AxesSubplot at 0x2ebd2540518>"
      ]
     },
     "execution_count": 10,
     "metadata": {},
     "output_type": "execute_result"
    },
    {
     "data": {
      "image/png": "[encoded data removed]",
      "text/plain": [
       "<Figure size 432x288 with 1 Axes>"
      ]
     },
     "metadata": {
      "needs_background": "light"
     },
     "output_type": "display_data"
    }
   ],
   "source": [
    "m_data['språk'].value_counts().plot(kind='bar')"
   ]
  },
  {
   "cell_type": "code",
   "execution_count": 11,
   "metadata": {},
   "outputs": [
    {
     "data": {
      "text/plain": [
       "<matplotlib.axes._subplots.AxesSubplot at 0x2ebd223dc18>"
      ]
     },
     "execution_count": 11,
     "metadata": {},
     "output_type": "execute_result"
    },
    {
     "data": {
      "image/png": "[encoded data removed]",
      "text/plain": [
       "<Figure size 720x360 with 1 Axes>"
      ]
     },
     "metadata": {
      "needs_background": "light"
     },
     "output_type": "display_data"
    }
   ],
   "source": [
    "m_data['originalspråk'].value_counts().plot(kind='bar', rot=0.5, figsize=(10,5))"
   ]
  },
  {
   "cell_type": "code",
   "execution_count": 12,
   "metadata": {},
   "outputs": [],
   "source": [
    "book_counts = [nb.book_count(m) for m in meta]"
   ]
  },
  {
   "cell_type": "code",
   "execution_count": 13,
   "metadata": {},
   "outputs": [
    {
     "data": {
      "text/plain": [
       "16609111"
      ]
     },
     "execution_count": 13,
     "metadata": {},
     "output_type": "execute_result"
    }
   ],
   "source": [
    "sum([list(x.values())[0] for x in book_counts])"
   ]
  },
  {
   "cell_type": "code",
   "execution_count": null,
   "metadata": {},
   "outputs": [],
   "source": []
  }
 ],
 "metadata": {
  "hide_input": false,
  "kernelspec": {
   "display_name": "Python 3",
   "language": "python",
   "name": "python3"
  },
  "language_info": {
   "codemirror_mode": {
    "name": "ipython",
    "version": 3
   },
   "file_extension": ".py",
   "mimetype": "text/x-python",
   "name": "python",
   "nbconvert_exporter": "python",
   "pygments_lexer": "ipython3",
   "version": "3.7.1"
  }
 },
 "nbformat": 4,
 "nbformat_minor": 2
}

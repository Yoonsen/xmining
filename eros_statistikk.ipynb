{
 "cells": [
  {
   "cell_type": "markdown",
   "metadata": {},
   "source": [
    "# Notebook for erosmining\n"
   ]
  },
  {
   "cell_type": "markdown",
   "metadata": {},
   "source": [
    "Importerer nbtext og også pandas for å gjøre statistikken."
   ]
  },
  {
   "cell_type": "code",
   "execution_count": 1,
   "metadata": {},
   "outputs": [
    {
     "name": "stdout",
     "output_type": "stream",
     "text": [
      "Updated file nbtext.py\n",
      "Updated file nbpictures.py\n"
     ]
    }
   ],
   "source": [
    "import module_update\n",
    "import nbtext as nb\n",
    "import pandas as pd\n",
    "\n",
    "%matplotlib inline"
   ]
  },
  {
   "cell_type": "markdown",
   "metadata": {},
   "source": [
    "## Hent URN-er fra Word-dokument"
   ]
  },
  {
   "cell_type": "code",
   "execution_count": 47,
   "metadata": {},
   "outputs": [
    {
     "name": "stdout",
     "output_type": "stream",
     "text": [
      "Antall URNer:  456\n"
     ]
    }
   ],
   "source": [
    "urns = nb.get_urns_from_docx('../Materiale erotisk litteratur 1945-1970 liste 27.09.18.docx')\n",
    "print('Antall URNer: ', len(urns))"
   ]
  },
  {
   "cell_type": "markdown",
   "metadata": {},
   "source": [
    "## Hent litt metadata og sjekk hva det er data for"
   ]
  },
  {
   "cell_type": "code",
   "execution_count": 5,
   "metadata": {},
   "outputs": [],
   "source": [
    "# rekonstruerer metadata for URN-ene (tar litt tid...)\n",
    "meta = [nb.metadata(urn) for urn in urns]"
   ]
  },
  {
   "cell_type": "markdown",
   "metadata": {},
   "source": [
    "### Det mangler ca 180\n",
    "\n",
    "URN-er som det ikke er metadata på i basen. Noe er fordi det er digitalisert sent i 2016, 2017 og 2018. De kommer med senere i år."
   ]
  },
  {
   "cell_type": "code",
   "execution_count": 31,
   "metadata": {},
   "outputs": [
    {
     "data": {
      "text/plain": [
       "263"
      ]
     },
     "execution_count": 31,
     "metadata": {},
     "output_type": "execute_result"
    }
   ],
   "source": [
    "len(m_data)"
   ]
  },
  {
   "cell_type": "code",
   "execution_count": 42,
   "metadata": {},
   "outputs": [
    {
     "data": {
      "text/plain": [
       "{2007050201054,\n",
       " 2007072301019,\n",
       " 2008042400058,\n",
       " 2012111908135,\n",
       " 2012112305008,\n",
       " 2013052908050,\n",
       " 2016112348565,\n",
       " 2016112408030,\n",
       " 2016112408044,\n",
       " 2016112808031,\n",
       " 2016112908141,\n",
       " 2016113008001,\n",
       " 2016113008002,\n",
       " 2016113008006,\n",
       " 2016113008024,\n",
       " 2016113008067,\n",
       " 2016121448508,\n",
       " 2017020808081,\n",
       " 2017020808088,\n",
       " 2017020808089,\n",
       " 2017020808094,\n",
       " 2017020808097,\n",
       " 2017020808118,\n",
       " 2017020808185,\n",
       " 2017020808195,\n",
       " 2017021008040,\n",
       " 2017021408042,\n",
       " 2017021408065,\n",
       " 2017021408086,\n",
       " 2017021408087,\n",
       " 2017021408104,\n",
       " 2017021608007,\n",
       " 2017021708016,\n",
       " 2017021708021,\n",
       " 2017022848047,\n",
       " 2017022848116,\n",
       " 2017030108037,\n",
       " 2017030808111,\n",
       " 2017031548012,\n",
       " 2017031608003,\n",
       " 2017031748088,\n",
       " 2017032148027,\n",
       " 2017032708038,\n",
       " 2017032948108,\n",
       " 2017033148065,\n",
       " 2017040408015,\n",
       " 2017040448077,\n",
       " 2017050348036,\n",
       " 2017050348037,\n",
       " 2017051148150,\n",
       " 2017051548001,\n",
       " 2017051548002,\n",
       " 2017051548004,\n",
       " 2017051548014,\n",
       " 2017051548015,\n",
       " 2017051548018,\n",
       " 2017051548038,\n",
       " 2017051548045,\n",
       " 2017051548050,\n",
       " 2017051548053,\n",
       " 2017051548056,\n",
       " 2017051548059,\n",
       " 2017051548063,\n",
       " 2017051548065,\n",
       " 2017051548080,\n",
       " 2017051548081,\n",
       " 2017051548086,\n",
       " 2017051548087,\n",
       " 2017051548090,\n",
       " 2017051548091,\n",
       " 2017051548097,\n",
       " 2017051548101,\n",
       " 2017051548102,\n",
       " 2017051548105,\n",
       " 2017051548106,\n",
       " 2017051548108,\n",
       " 2017051548109,\n",
       " 2017051548111,\n",
       " 2017051548112,\n",
       " 2017051548113,\n",
       " 2017051548115,\n",
       " 2017051548119,\n",
       " 2017051548121,\n",
       " 2017051548124,\n",
       " 2017051548176,\n",
       " 2017051548184,\n",
       " 2017051548185,\n",
       " 2017051548186,\n",
       " 2017051548188,\n",
       " 2017051548195,\n",
       " 2017051548196,\n",
       " 2017051648032,\n",
       " 2017051648034,\n",
       " 2017051648036,\n",
       " 2017051648037,\n",
       " 2017051648038,\n",
       " 2017051648039,\n",
       " 2017051648044,\n",
       " 2017051648052,\n",
       " 2017051648061,\n",
       " 2017051648064,\n",
       " 2017051648070,\n",
       " 2017051648078,\n",
       " 2017053048054,\n",
       " 2017060148096,\n",
       " 2017060148165,\n",
       " 2017060708005,\n",
       " 2017060708009,\n",
       " 2017060708012,\n",
       " 2017060708029,\n",
       " 2017060708054,\n",
       " 2017061248008,\n",
       " 2017061248034,\n",
       " 2017061248086,\n",
       " 2017061248092,\n",
       " 2017061248098,\n",
       " 2017061608012,\n",
       " 2017061608109,\n",
       " 2017061608110,\n",
       " 2017061608116,\n",
       " 2017061608117,\n",
       " 2017061608118,\n",
       " 2017061608130,\n",
       " 2017061608135,\n",
       " 2017061608142,\n",
       " 2017061608145,\n",
       " 2017061608146,\n",
       " 2017061608147,\n",
       " 2017061608168,\n",
       " 2017061608169,\n",
       " 2017061608173,\n",
       " 2017061608174,\n",
       " 2017061908003,\n",
       " 2017061908013,\n",
       " 2017061908015,\n",
       " 2017061908016,\n",
       " 2017061908017,\n",
       " 2017061908019,\n",
       " 2017061908024,\n",
       " 2017061908039,\n",
       " 2017061908043,\n",
       " 2017061908054,\n",
       " 2017061908058,\n",
       " 2017061908065,\n",
       " 2017061908080,\n",
       " 2017061908083,\n",
       " 2017061908084,\n",
       " 2017061908091,\n",
       " 2017061908093,\n",
       " 2017061908098,\n",
       " 2017061908116,\n",
       " 2017061908117,\n",
       " 2017061908120,\n",
       " 2017061908121,\n",
       " 2017061908137,\n",
       " 2017061908142,\n",
       " 2017061908159,\n",
       " 2017061908173,\n",
       " 2017061908181,\n",
       " 2017062108022,\n",
       " 2017062108053,\n",
       " 2017062708126,\n",
       " 2017062708127,\n",
       " 2017062708138,\n",
       " 2017062708139,\n",
       " 2017062708156,\n",
       " 2017062808091,\n",
       " 2017062808162,\n",
       " 2017062808165,\n",
       " 2017062808193,\n",
       " 2017070507163,\n",
       " 2017070707082,\n",
       " 2017080248038,\n",
       " 2017081748110,\n",
       " 2017090748035,\n",
       " 2017100348053,\n",
       " 2017100348061,\n",
       " 2017100348072,\n",
       " 2017100348081,\n",
       " 2017100348102,\n",
       " 2018022709528,\n",
       " 2018022709573,\n",
       " 2018022709584,\n",
       " 2018030848009,\n",
       " 2018030848017}"
      ]
     },
     "execution_count": 42,
     "metadata": {},
     "output_type": "execute_result"
    }
   ],
   "source": [
    "# Liste over URNer som ikke er med i datasettet, ca. 180\n",
    "\n",
    "(set([int(urn) for urn in urns]) - set([x[0][0] for x in meta if x != []]))"
   ]
  },
  {
   "cell_type": "markdown",
   "metadata": {},
   "source": [
    "# Lag en dataramme for metadataene"
   ]
  },
  {
   "cell_type": "code",
   "execution_count": 17,
   "metadata": {},
   "outputs": [],
   "source": [
    "m_data = pd.DataFrame([x[0] for x in meta if x != []])"
   ]
  },
  {
   "cell_type": "code",
   "execution_count": 19,
   "metadata": {},
   "outputs": [],
   "source": [
    "m_data.columns = [\"urn\", \"forfatter\", \"år\", \"tittel\", \"forlag\", \"språk\", \"originalspråk\"]"
   ]
  },
  {
   "cell_type": "markdown",
   "metadata": {},
   "source": [
    "### Rammen ser sånn ut, her med de første radene"
   ]
  },
  {
   "cell_type": "code",
   "execution_count": 46,
   "metadata": {},
   "outputs": [
    {
     "data": {
      "text/html": [
       "<div>\n",
       "<style scoped>\n",
       "    .dataframe tbody tr th:only-of-type {\n",
       "        vertical-align: middle;\n",
       "    }\n",
       "\n",
       "    .dataframe tbody tr th {\n",
       "        vertical-align: top;\n",
       "    }\n",
       "\n",
       "    .dataframe thead th {\n",
       "        text-align: right;\n",
       "    }\n",
       "</style>\n",
       "<table border=\"1\" class=\"dataframe\">\n",
       "  <thead>\n",
       "    <tr style=\"text-align: right;\">\n",
       "      <th></th>\n",
       "      <th>urn</th>\n",
       "      <th>forfatter</th>\n",
       "      <th>år</th>\n",
       "      <th>tittel</th>\n",
       "      <th>forlag</th>\n",
       "      <th>språk</th>\n",
       "      <th>originalspråk</th>\n",
       "    </tr>\n",
       "  </thead>\n",
       "  <tbody>\n",
       "    <tr>\n",
       "      <th>0</th>\n",
       "      <td>2015090129001</td>\n",
       "      <td>Mykle, Agnar</td>\n",
       "      <td>1956.0</td>\n",
       "      <td>Sangen om den røde rubin</td>\n",
       "      <td>Gyldendal</td>\n",
       "      <td>nob</td>\n",
       "      <td></td>\n",
       "    </tr>\n",
       "    <tr>\n",
       "      <th>1</th>\n",
       "      <td>2011112308125</td>\n",
       "      <td>Mykle, Agnar</td>\n",
       "      <td>1954.0</td>\n",
       "      <td>Lasso rundt fru Luna</td>\n",
       "      <td>Gyldendal</td>\n",
       "      <td>nob</td>\n",
       "      <td></td>\n",
       "    </tr>\n",
       "    <tr>\n",
       "      <th>2</th>\n",
       "      <td>2012021608164</td>\n",
       "      <td>Aalberse, Han B.</td>\n",
       "      <td>1959.0</td>\n",
       "      <td>Ung kjærlighet</td>\n",
       "      <td>Atlas</td>\n",
       "      <td>nob</td>\n",
       "      <td>dut</td>\n",
       "    </tr>\n",
       "    <tr>\n",
       "      <th>3</th>\n",
       "      <td>2016111748512</td>\n",
       "      <td>Aalberse, Han B.</td>\n",
       "      <td>1960.0</td>\n",
       "      <td>Ungt begjær</td>\n",
       "      <td>Atlas</td>\n",
       "      <td>nob</td>\n",
       "      <td>dut</td>\n",
       "    </tr>\n",
       "    <tr>\n",
       "      <th>4</th>\n",
       "      <td>2010111706020</td>\n",
       "      <td>Anderberg, Bengt</td>\n",
       "      <td>1949.0</td>\n",
       "      <td>Kain</td>\n",
       "      <td>Bergendal</td>\n",
       "      <td>nob</td>\n",
       "      <td>swe</td>\n",
       "    </tr>\n",
       "  </tbody>\n",
       "</table>\n",
       "</div>"
      ],
      "text/plain": [
       "             urn         forfatter      år                    tittel  \\\n",
       "0  2015090129001      Mykle, Agnar  1956.0  Sangen om den røde rubin   \n",
       "1  2011112308125      Mykle, Agnar  1954.0      Lasso rundt fru Luna   \n",
       "2  2012021608164  Aalberse, Han B.  1959.0            Ung kjærlighet   \n",
       "3  2016111748512  Aalberse, Han B.  1960.0               Ungt begjær   \n",
       "4  2010111706020  Anderberg, Bengt  1949.0                      Kain   \n",
       "\n",
       "      forlag språk originalspråk  \n",
       "0  Gyldendal   nob                \n",
       "1  Gyldendal   nob                \n",
       "2      Atlas   nob           dut  \n",
       "3      Atlas   nob           dut  \n",
       "4  Bergendal   nob           swe  "
      ]
     },
     "execution_count": 46,
     "metadata": {},
     "output_type": "execute_result"
    }
   ],
   "source": [
    "m_data[:5]"
   ]
  },
  {
   "cell_type": "markdown",
   "metadata": {},
   "source": [
    "## Statistikk for kolonnene\n",
    "\n"
   ]
  },
  {
   "cell_type": "code",
   "execution_count": 23,
   "metadata": {},
   "outputs": [
    {
     "data": {
      "text/plain": [
       "Gyldendal                                            49\n",
       "Bladkompaniet                                        39\n",
       "Aschehoug                                            31\n",
       "Cappelen                                             24\n",
       "Brann                                                18\n",
       "Mortensen                                            14\n",
       "Atlas                                                 9\n",
       "Nasjonalforl.                                         8\n",
       "Ingar Weyer Tveitan                                   8\n",
       "Pax                                                   7\n",
       "Brann;Oslo : Brann, 1952-1953                         5\n",
       "Bergendahl                                            4\n",
       "Stabenfeldt                                           4\n",
       "Ny dag                                                4\n",
       "Tiden                                                 4\n",
       "Cammermeyer                                           3\n",
       "Pax forlag                                            2\n",
       "Steensballe                                           2\n",
       "Stabenfeldthus;Stavanger : Stabenfeldthus, [1961]     2\n",
       "Argosy                                                2\n",
       "Bergendal                                             2\n",
       "Stig Vendelkærs Forlag                                2\n",
       "IBA;Scala                                             1\n",
       "Bokklubben                                            1\n",
       "Ingar Weyer Tveitan forl.                             1\n",
       "Kringen                                               1\n",
       "Fredhøi                                               1\n",
       "John Griegs forl.                                     1\n",
       "Gyldendal;Oslo : Gyldendal, 1968-1969                 1\n",
       "Essforlagene                                          1\n",
       "Tveitan                                               1\n",
       "Gyldendal;Oslo : Gyldendal, 1955                      1\n",
       "Alb.Cammermeyer                                       1\n",
       "Dreyer                                                1\n",
       "Ingar Weyer Tveitan forlag                            1\n",
       "Essforl.                                              1\n",
       "Oslo, &lt;1967&gt;-    .                              1\n",
       "Metropol forlag                                       1\n",
       "Scala;Oslo : Scala, 1965-1966                         1\n",
       "Samlaget                                              1\n",
       "Scala forl.                                           1\n",
       "Gyldendal;Oslo : Gyldendal, 1952                      1\n",
       "Name: forlag, dtype: int64"
      ]
     },
     "execution_count": 23,
     "metadata": {},
     "output_type": "execute_result"
    }
   ],
   "source": [
    "m_data['forlag'].value_counts()"
   ]
  },
  {
   "cell_type": "code",
   "execution_count": 24,
   "metadata": {},
   "outputs": [
    {
     "data": {
      "text/plain": [
       "nob    258\n",
       "mul      3\n",
       "dan      2\n",
       "Name: språk, dtype: int64"
      ]
     },
     "execution_count": 24,
     "metadata": {},
     "output_type": "execute_result"
    }
   ],
   "source": [
    "m_data['språk'].value_counts()"
   ]
  },
  {
   "cell_type": "code",
   "execution_count": 28,
   "metadata": {},
   "outputs": [
    {
     "data": {
      "text/plain": [
       "          115\n",
       "eng        96\n",
       "swe        14\n",
       "dan        12\n",
       "fre        10\n",
       "ita         4\n",
       "engpor      3\n",
       "ger         3\n",
       "dut         2\n",
       "gerhrv      2\n",
       "ara         1\n",
       "gre         1\n",
       "Name: originalspråk, dtype: int64"
      ]
     },
     "execution_count": 28,
     "metadata": {},
     "output_type": "execute_result"
    }
   ],
   "source": [
    "m_data['originalspråk'].value_counts()"
   ]
  },
  {
   "cell_type": "code",
   "execution_count": null,
   "metadata": {},
   "outputs": [],
   "source": []
  }
 ],
 "metadata": {
  "hide_input": false,
  "kernelspec": {
   "display_name": "Python 3",
   "language": "python",
   "name": "python3"
  },
  "language_info": {
   "codemirror_mode": {
    "name": "ipython",
    "version": 3
   },
   "file_extension": ".py",
   "mimetype": "text/x-python",
   "name": "python",
   "nbconvert_exporter": "python",
   "pygments_lexer": "ipython3",
   "version": "3.6.4"
  }
 },
 "nbformat": 4,
 "nbformat_minor": 2
}

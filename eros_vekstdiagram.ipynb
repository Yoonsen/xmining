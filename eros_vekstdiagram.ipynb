{
 "cells": [
  {
   "cell_type": "markdown",
   "metadata": {},
   "source": [
    "#### Paracode"
   ]
  },
  {
   "cell_type": "markdown",
   "metadata": {},
   "source": [
    "Laster ned moduler og filer, `module_update`, `nbtext` og `graph_networkx_louvain`"
   ]
  },
  {
   "cell_type": "code",
   "execution_count": null,
   "metadata": {},
   "outputs": [],
   "source": [
    "! curl -s \"https://raw.githubusercontent.com/Yoonsen/Modules/master/module_update.py\" > \"module_update.py\""
   ]
  },
  {
   "cell_type": "code",
   "execution_count": null,
   "metadata": {},
   "outputs": [],
   "source": [
    "from module_update import update, css, code_toggle, printmd\n",
    "update('nbtext', overwrite=True)\n",
    "update('graph_networkx_louvain', overwrite=True)"
   ]
  },
  {
   "cell_type": "markdown",
   "metadata": {},
   "source": [
    "## Her er noen tilpassede funksjoner"
   ]
  },
  {
   "cell_type": "code",
   "execution_count": null,
   "metadata": {},
   "outputs": [],
   "source": [
    "import requests\n",
    "def normalize_corpus_dataframe(df):\n",
    "    colsums = df.sum()\n",
    "    for x in colsums.index:\n",
    "        #print(x)\n",
    "        df[x] = df[x].fillna(0)/colsums[x]\n",
    "    return True\n",
    "\n",
    "def urn_coll(word, urns=[], after=5, before=5, limit=1000):\n",
    "    \"\"\"Find collocations for a word in a set of books represented by URNs.\n",
    "    Compute a collocation across the books, or pr. book. Both result in a one column dataframe representing\n",
    "    the collocations.\n",
    "    \"\"\"\n",
    "    \n",
    "    if isinstance(urns[0], list):  # urns assumed to be list of list with urn-serial as first element\n",
    "        urns = [u[0] for u in urns]\n",
    "    \n",
    "    r = requests.post(\"https://api.nb.no/ngram/urncoll\", json={'word':word, 'urns':urns, \n",
    "                                                                   'after':after, 'before':before, 'limit':limit})\n",
    "    res = pd.DataFrame.from_dict(r.json(), orient='index')\n",
    "    if not res.empty:\n",
    "        res = res.sort_values(by=res.columns[0], ascending = False)\n",
    "    return res\n",
    "\n",
    "def urn_coll_pr(word, urns=[], after=5, before=5, limit=1000):\n",
    "        coll = dict()\n",
    "        for urn in urns:\n",
    "            cll = urn_coll(word, [urn], after=after, before=before, limit=limit)\n",
    "            if not cll.empty:\n",
    "                coll[urn] = cll\n",
    "        colls = pd.DataFrame.from_dict(coll, orient='index' ).fillna(0)\n",
    "        normalize_corpus_dataframe(colls)\n",
    "        scoll = colls.mean(axis=1)\n",
    "        res = pd.DataFrame(scoll.sort_values(ascending=False))\n"
   ]
  },
  {
   "cell_type": "markdown",
   "metadata": {},
   "source": [
    "Aktiver eller fjern `css`"
   ]
  },
  {
   "cell_type": "code",
   "execution_count": null,
   "metadata": {},
   "outputs": [],
   "source": [
    "css()"
   ]
  },
  {
   "cell_type": "markdown",
   "metadata": {},
   "source": [
    "Importer moduler"
   ]
  },
  {
   "cell_type": "code",
   "execution_count": null,
   "metadata": {},
   "outputs": [],
   "source": [
    "import nbtext as nb\n",
    "import graph_networkx_louvain as gnl\n",
    "import pandas as pd\n",
    "%matplotlib inline"
   ]
  },
  {
   "cell_type": "markdown",
   "metadata": {},
   "source": [
    "Slår av advarsler fra IPython"
   ]
  },
  {
   "cell_type": "code",
   "execution_count": null,
   "metadata": {},
   "outputs": [],
   "source": [
    "import warnings\n",
    "warnings.filterwarnings('ignore')"
   ]
  },
  {
   "cell_type": "markdown",
   "metadata": {},
   "source": [
    "# Notebook for erosmining\n"
   ]
  },
  {
   "cell_type": "markdown",
   "metadata": {},
   "source": [
    "Pass på referansene til URN-definisjonene"
   ]
  },
  {
   "cell_type": "code",
   "execution_count": null,
   "metadata": {},
   "outputs": [],
   "source": [
    "urns = nb.get_urns_from_docx('../Materiale erotisk litteratur 1945-1970 liste 27.09.18.docx')\n",
    "print('Antall URNer: ', len(urns), urns[:5])"
   ]
  },
  {
   "cell_type": "markdown",
   "metadata": {},
   "source": [
    "Det kvinnelige materialet"
   ]
  },
  {
   "cell_type": "code",
   "execution_count": null,
   "metadata": {},
   "outputs": [],
   "source": [
    "fem_urns = nb.get_urns_from_docx('../Kvinner Materiale erotisk litteratur 1945-1970 liste  08.02.19.docx')\n",
    "print(\"Antall: \", len(fem_urns))"
   ]
  },
  {
   "cell_type": "code",
   "execution_count": null,
   "metadata": {},
   "outputs": [],
   "source": [
    "# rekonstruerer metadata for URN-ene\n",
    "meta = [nb.metadata(u) for u in urns]"
   ]
  },
  {
   "cell_type": "code",
   "execution_count": null,
   "metadata": {},
   "outputs": [],
   "source": [
    "# henter 50 000 ord fra totalen\n",
    "tot = pd.Series(nb.totals(50000))\n",
    "tot = tot/tot.sum()"
   ]
  },
  {
   "cell_type": "markdown",
   "metadata": {},
   "source": [
    "### En hurtigversjon av konkordansekommando\n",
    "\n",
    "Skriv `konk('bryst')` for å undersøke korpuset. For å se blant URN-er fra kvinner, skriv `konk('bryst', urns=fem_urns)`.\n",
    "\n",
    "I neste celle defineres kommandoen, med eksempler etter der igjen."
   ]
  },
  {
   "cell_type": "code",
   "execution_count": null,
   "metadata": {},
   "outputs": [],
   "source": [
    "konk = lambda word, urns = urns, before = 8, after = 4, size = 2: nb.get_urnkonk(word, {'urns':nb.refine_urn(urns,{'words':[word]} )[:30], 'before':before, 'after':after, 'size':size})"
   ]
  },
  {
   "cell_type": "markdown",
   "metadata": {},
   "source": [
    "## Konkordanser\n",
    "\n",
    "Bare kopier cellen og kjør flere ganger. Det tar noen sekunder, i og med at korpuset er såpass stort. Effektivisering er under planlegging."
   ]
  },
  {
   "cell_type": "code",
   "execution_count": null,
   "metadata": {
    "scrolled": true
   },
   "outputs": [],
   "source": [
    "konk('blusen', urns=fem_urns)"
   ]
  },
  {
   "cell_type": "markdown",
   "metadata": {},
   "source": [
    "## Næranalyse av en enkelt tekst"
   ]
  },
  {
   "cell_type": "markdown",
   "metadata": {},
   "source": [
    "En eller flere ordlister for forskjellige formål. "
   ]
  },
  {
   "cell_type": "code",
   "execution_count": null,
   "metadata": {},
   "outputs": [],
   "source": [
    "# Eksempel fra noen av ordene nevnt i den her sammenhengen\n",
    "words = \"\"\"brystene brystet låret lår lemmet presset presse presser stønnet stønne stønner leppene rev rive river flerret flerre flerrer\n",
    "snerret snerre snerrer kjønnet grotten stivt slapt slapp stive stiv\n",
    " kikket kikke kikker stirret stirre stirrer\"\"\".split()"
   ]
  },
  {
   "cell_type": "code",
   "execution_count": null,
   "metadata": {},
   "outputs": [],
   "source": [
    "omsorg = \"\"\"hverandre holdt ømt varsomt følelse følte nærhet nærheten\"\"\".split()"
   ]
  },
  {
   "cell_type": "code",
   "execution_count": null,
   "metadata": {},
   "outputs": [],
   "source": [
    "gladord = nb.relaterte_ord('glad, munter')"
   ]
  },
  {
   "cell_type": "markdown",
   "metadata": {},
   "source": [
    "# Grafanalyse av ordene i en enkelt tekst\n",
    "\n",
    "Her får du en graf som viser samforekomsten av ord. Det lages en kobling om ordene står i samme avsnitt. Det går også fint å lime en URN fra word-dokumentet."
   ]
  },
  {
   "cell_type": "code",
   "execution_count": null,
   "metadata": {},
   "outputs": [],
   "source": [
    "print(nb.metadata(urns[30]))"
   ]
  },
  {
   "cell_type": "code",
   "execution_count": null,
   "metadata": {},
   "outputs": [],
   "source": [
    "G = nb.make_network(urns[30], wordbag=words+omsorg)"
   ]
  },
  {
   "cell_type": "code",
   "execution_count": null,
   "metadata": {},
   "outputs": [],
   "source": []
  },
  {
   "cell_type": "code",
   "execution_count": null,
   "metadata": {},
   "outputs": [],
   "source": [
    "gnl.show_graph(G);"
   ]
  },
  {
   "cell_type": "code",
   "execution_count": null,
   "metadata": {},
   "outputs": [],
   "source": [
    "def collcomp(df_column, comp, exp = 1):\n",
    "    \"\"\"df_column is a column in a dataframe - a series, while comp is also a series object\"\"\"\n",
    "    res = (df_column**exp/comp).sort_values(ascending=False)\n",
    "    return res"
   ]
  },
  {
   "cell_type": "code",
   "execution_count": null,
   "metadata": {},
   "outputs": [],
   "source": [
    "import networkx as nx\n",
    "def make_urn_collocation_graph(target_word, urns, comparo, top = 15, before = 4, after = 4, limit = 1000, exp=1):\n",
    "        \"\"\"Make a cascaded network of collocations\"\"\"\n",
    "\n",
    "        firstcoll = urn_coll(target_word, urns, before=before, after=after, limit=limit)\n",
    "        normalize_corpus_dataframe(firstcoll)\n",
    "        coll = collcomp(firstcoll[0], comparo, exp = exp)\n",
    "        target_graf = dict()\n",
    "        edges = []\n",
    "        for word in coll[:top].index:\n",
    "            edges.append((target_word, word))\n",
    "            if word.isalpha():\n",
    "                twocoll = urn_coll(word, urns, before=before, after=after,  limit=limit)\n",
    "                normalize_corpus_dataframe(twocoll)\n",
    "                coll2 = collcomp(twocoll[0], comparo, exp = exp)\n",
    "                for w in collcomp(coll2, comparo, exp = exp)[:top].index:\n",
    "                    if w.isalpha():\n",
    "                        edges.append((word, w)) \n",
    "\n",
    "        target_graph = nx.Graph()\n",
    "        target_graph.add_edges_from(edges)\n",
    "        return target_graph"
   ]
  },
  {
   "cell_type": "markdown",
   "metadata": {},
   "source": [
    "### Kommando for å lage ordsky av en kollokasjon"
   ]
  },
  {
   "cell_type": "code",
   "execution_count": null,
   "metadata": {},
   "outputs": [],
   "source": [
    "collcloud = lambda x: nb.cloud(nb.frame(x/x.sum()))"
   ]
  },
  {
   "cell_type": "markdown",
   "metadata": {},
   "source": [
    "### Kommandoer for ordskyer og grafer\n",
    "\n",
    "Se eksemplene under."
   ]
  },
  {
   "cell_type": "code",
   "execution_count": null,
   "metadata": {},
   "outputs": [],
   "source": [
    "# noen dictionary-objekter som holder dataene, du slipper å lage nye variable for hver gang\n",
    "# totalen må være laget, men den er med i initialiseringen av notebooken,sammen med URNene. Se øverst.\n",
    "\n",
    "Gf = dict()\n",
    "Colls = dict()\n",
    "\n",
    "def kollmaker_graph(word, urns, top = 20, before = 5, after = 5, graphdict = Gf, comparo = tot, exp = 1):\n",
    "    graphdict[word] = make_urn_collocation_graph(word, urns, comparo, top = top, before=before, after=after, exp=1) \n",
    "    return True\n",
    "\n",
    "def kollmaker(word, urns, before = 5, after = 5, colldict = Colls, comparo = tot, exp = 1):\n",
    "    coll = urn_coll(word, urns, before=before, after=after)\n",
    "    normalize_corpus_dataframe(coll)\n",
    "    colldict[word] = collcomp(coll[0], comparo, exp=exp)\n",
    "    return True"
   ]
  },
  {
   "cell_type": "code",
   "execution_count": null,
   "metadata": {},
   "outputs": [],
   "source": [
    "from collections import Counter\n",
    "graf2cloud = lambda G, n = 30: collcloud(pd.Series(dict(Counter(nx.eigenvector_centrality(G)).most_common(n))))"
   ]
  },
  {
   "cell_type": "markdown",
   "metadata": {},
   "source": [
    "# Vekstdiagram\n",
    "\n",
    "For vekstdiagram brukes kommandoen nb.vekstdiagram().plot(). Input til vekstdiagram er en URN sammen med en liste av ord. "
   ]
  },
  {
   "cell_type": "code",
   "execution_count": null,
   "metadata": {},
   "outputs": [],
   "source": [
    "kollmaker('trusen', urns)"
   ]
  },
  {
   "cell_type": "code",
   "execution_count": null,
   "metadata": {},
   "outputs": [],
   "source": [
    "kollmaker('lemmet', urns)"
   ]
  },
  {
   "cell_type": "code",
   "execution_count": null,
   "metadata": {},
   "outputs": [],
   "source": [
    "kollmaker_graph('lemmet', urns, top = 30)"
   ]
  },
  {
   "cell_type": "code",
   "execution_count": null,
   "metadata": {},
   "outputs": [],
   "source": [
    "kollmaker_graph('trusen', urns, top=25)"
   ]
  },
  {
   "cell_type": "code",
   "execution_count": null,
   "metadata": {},
   "outputs": [],
   "source": [
    "collcloud(Colls['trusen'][:30])"
   ]
  },
  {
   "cell_type": "code",
   "execution_count": null,
   "metadata": {},
   "outputs": [],
   "source": [
    "collcloud(Colls['lemmet'][:30])"
   ]
  },
  {
   "cell_type": "code",
   "execution_count": null,
   "metadata": {},
   "outputs": [],
   "source": [
    "graf2cloud(Gf['trusen'])"
   ]
  },
  {
   "cell_type": "code",
   "execution_count": null,
   "metadata": {},
   "outputs": [],
   "source": [
    "graf2cloud(Gf['lemmet'])"
   ]
  },
  {
   "cell_type": "markdown",
   "metadata": {},
   "source": [
    "# Analyser tekster med vekstdiagram"
   ]
  },
  {
   "cell_type": "markdown",
   "metadata": {},
   "source": [
    "# Metadata\n",
    "\n",
    "Her bygger vi bare opp en struktur for å finne frem i metadata, bare hopp over, men det må stå et sted."
   ]
  },
  {
   "cell_type": "code",
   "execution_count": null,
   "metadata": {},
   "outputs": [],
   "source": [
    "bokinfo = nb.frame([x[0] for x in meta if x != []])\n",
    "bokinfo.columns = ['urn', 'forfatter', 'år', 'tittel', 'forlag', 'språk', 'trans']\n",
    "bokinfo.head()"
   ]
  },
  {
   "cell_type": "code",
   "execution_count": null,
   "metadata": {},
   "outputs": [],
   "source": [
    "finn_bok = lambda y, x = 'forfatter': bokinfo[bokinfo[x].str.contains(y)]\n",
    "\n",
    "def collwords(x, n=20):\n",
    "    if not x in Colls:\n",
    "        kollmaker(x, urns)\n",
    "    res = list(Colls[x][:n].index)\n",
    "    return res\n",
    "        \n"
   ]
  },
  {
   "cell_type": "markdown",
   "metadata": {},
   "source": [
    "## Hvordan finne en bok?\n",
    "\n",
    "Bruk kommandoen `finn_bok('Mykle', 'forfatter')` for å finne alt av Mykle. For å finne en tittel er det bare å legge til 'tittel' som andre parameter `finn_bok('sangen', 'tittel')`. Se eksempler. Parametret 'forfatter' er default, så det kan utelates.\n",
    "\n",
    "Fra listene er det bare å dobbelklikke en URN for å bruke i vekstdiagram. Se nedenfor."
   ]
  },
  {
   "cell_type": "code",
   "execution_count": null,
   "metadata": {},
   "outputs": [],
   "source": [
    "finn_bok('Bjørg')"
   ]
  },
  {
   "cell_type": "code",
   "execution_count": null,
   "metadata": {},
   "outputs": [],
   "source": [
    "finn_bok('begjær','tittel')"
   ]
  },
  {
   "cell_type": "markdown",
   "metadata": {},
   "source": [
    "## Ordsett for vekstdiagrammer\n",
    "\n",
    "Her kan i prinsippet hva som helst brukes. Data fra kollokasjoner, og andre ting. For å hente ut ordsett fra kollokasjoner bruk `collwords()`, som i `collwords('trusen', 30)` for å hente ut de 30 topp ordene fra kollokasjonen for 'trusen'. Om antallet utelates er default-verdien 20. Hvis det er laget en kollokasjon for 'trusen' brukes den, ellers lages en ny, som så vil bli tilgjengelig under `Colls`.\n",
    "\n"
   ]
  },
  {
   "cell_type": "code",
   "execution_count": null,
   "metadata": {},
   "outputs": [],
   "source": [
    "collwords('trusen', 30)"
   ]
  },
  {
   "cell_type": "markdown",
   "metadata": {},
   "source": [
    "Ellers går det også an å lage sin egen liste med ord. Bare skriv en liste med mellomrom innenfor \"\"\" \"\"\" og avslutt med .split(), som her:"
   ]
  },
  {
   "cell_type": "code",
   "execution_count": null,
   "metadata": {},
   "outputs": [],
   "source": [
    "egne_ord = \"\"\"munter fornøyd lettet smilte lo ler moro morsomt humor\"\"\".split()"
   ]
  },
  {
   "cell_type": "markdown",
   "metadata": {},
   "source": [
    "Som en tredje variant kan relaterte ord hentes fra galaksene med `nb.relaterte_ord()`"
   ]
  },
  {
   "cell_type": "code",
   "execution_count": null,
   "metadata": {},
   "outputs": [],
   "source": [
    "gladord = nb.relaterte_ord('glad, munter, fornøyd', number=30)\n",
    "print(gladord)"
   ]
  },
  {
   "cell_type": "code",
   "execution_count": null,
   "metadata": {},
   "outputs": [],
   "source": [
    "voldsord = nb.relaterte_ord('vold, slag, spark, knuse', number = 30)\n",
    "print(voldsord)"
   ]
  },
  {
   "cell_type": "markdown",
   "metadata": {},
   "source": [
    "Alle listene kan manipuleres på et eller annet vis til en liste som kan fungere, men greit å bruke dem sånn de er også. Det er mulig å finne ut hvilke ord som gir resultatene nedenfor også."
   ]
  },
  {
   "cell_type": "code",
   "execution_count": null,
   "metadata": {},
   "outputs": [],
   "source": [
    "voyeur = 'stirret, smøg, myste, kikket, spionerte'.split()\n",
    "print(voyeur)"
   ]
  },
  {
   "cell_type": "code",
   "execution_count": null,
   "metadata": {},
   "outputs": [],
   "source": []
  },
  {
   "cell_type": "markdown",
   "metadata": {},
   "source": [
    "# Her noen eksempler"
   ]
  },
  {
   "cell_type": "code",
   "execution_count": null,
   "metadata": {},
   "outputs": [],
   "source": [
    "nb.plot_sammen_vekst(2007050401037,[collwords('ømt'), collwords('naken')]).plot(figsize = (14,6), lw = 8, alpha=0.6)"
   ]
  },
  {
   "cell_type": "markdown",
   "metadata": {},
   "source": [
    "Bare skriv `print(collwords('ømt'))` og lignende for å se listen over ord i kollokasjonene"
   ]
  },
  {
   "cell_type": "code",
   "execution_count": null,
   "metadata": {},
   "outputs": [],
   "source": [
    "print(collwords('ømt'))"
   ]
  },
  {
   "cell_type": "code",
   "execution_count": null,
   "metadata": {},
   "outputs": [],
   "source": [
    "print(collwords('naken'))"
   ]
  },
  {
   "cell_type": "code",
   "execution_count": null,
   "metadata": {},
   "outputs": [],
   "source": [
    "nb.plot_sammen_vekst(2007072501029,[gladord, voldsord]).plot(figsize = (14,6), lw = 8, alpha=0.6)"
   ]
  },
  {
   "cell_type": "code",
   "execution_count": null,
   "metadata": {},
   "outputs": [],
   "source": [
    "# det er forskjell på de egenkomponerte glad-ordene og de fra relaterte_ord()\n",
    "\n",
    "nb.plot_sammen_vekst(2007072501029,[egne_ord, gladord]).plot(figsize = (14,6), lw = 8, alpha=0.7)"
   ]
  },
  {
   "cell_type": "code",
   "execution_count": null,
   "metadata": {},
   "outputs": [],
   "source": [
    "finn_bok('Masterson')"
   ]
  },
  {
   "cell_type": "code",
   "execution_count": null,
   "metadata": {},
   "outputs": [],
   "source": [
    "# det er forskjell på de egenkomponerte glad-ordene og de fra relaterte_ord()\n",
    "\n",
    "nb.plot_sammen_vekst(2013053008089,[gladord, voldsord]).plot(figsize = (14,6), lw = 8, alpha=0.7)"
   ]
  },
  {
   "cell_type": "code",
   "execution_count": null,
   "metadata": {},
   "outputs": [],
   "source": [
    "\n",
    "nb.plot_sammen_vekst(2013053008089,[gladord, voldsord,collwords('slo')], window=8000).plot(figsize = (14,6), lw = 8, alpha=0.7)"
   ]
  },
  {
   "cell_type": "code",
   "execution_count": null,
   "metadata": {},
   "outputs": [],
   "source": [
    "print(collwords('trusa'))"
   ]
  },
  {
   "cell_type": "code",
   "execution_count": null,
   "metadata": {},
   "outputs": [],
   "source": [
    "print(collwords('slo'))"
   ]
  },
  {
   "cell_type": "code",
   "execution_count": null,
   "metadata": {},
   "outputs": [],
   "source": []
  }
 ],
 "metadata": {
  "hide_input": false,
  "kernelspec": {
   "display_name": "Python 3",
   "language": "python",
   "name": "python3"
  },
  "language_info": {
   "codemirror_mode": {
    "name": "ipython",
    "version": 3
   },
   "file_extension": ".py",
   "mimetype": "text/x-python",
   "name": "python",
   "nbconvert_exporter": "python",
   "pygments_lexer": "ipython3",
   "version": "3.7.0"
  }
 },
 "nbformat": 4,
 "nbformat_minor": 2
}
